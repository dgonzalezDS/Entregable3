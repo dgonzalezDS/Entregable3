{
  "cells": [
    {
      "cell_type": "markdown",
      "id": "d5f6699e",
      "metadata": {
        "id": "d5f6699e",
        "papermill": {
          "duration": 0.018262,
          "end_time": "2022-12-25T18:21:13.031571",
          "exception": false,
          "start_time": "2022-12-25T18:21:13.013309",
          "status": "completed"
        },
        "tags": []
      },
      "source": [
        "### Objetivos del notebook\n",
        "---\n",
        "En el presente notebook vamos a aprender a utilizar el algoritmo de XGBoost para trabajar con Series Temporales.\n",
        "\n",
        "[XGBoost](https://xgboost.readthedocs.io/en/stable/) es una implementación muy popular del [Gradient Boosting](https://interactivechaos.com/es/manual/tutorial-de-machine-learning/gradient-boosting) y se ha convertido **\"de facto\"** en el benchmark a batir para datos tabulares.\n",
        "\n",
        "A pesar de tener sus carencias para problemas de Series Temporales (por ejemplo: no es capaz de extrapolar una tendencia), el algoritmo es muy versátil y todo Data Scientist debe conocerlo.\n",
        "\n",
        "El dataset con el que vamos a trabajar en este notebook contiene un total de **426 Series Temporales** que abarcan el periodo Enero'2013 - Septiembre'2015. Por tanto vamos a trabajar con **Series Temporales Multivariante**.\n",
        "\n",
        "Cada una de estas **Series Temporales** representan las ventas <u>**MENSUALES**</u> de **un artículo en un tienda y ciudad**. El objetivo es predecir las <u>**VENTAS TOTALES DEL MES DE OCTUBRE'2015**</u>.\n",
        "\n",
        "Al final del notebook, el alumno debe estar familiarizado con:\n",
        "\n",
        "1. **La importancia de establecer un benchmark (CORE IDEA)** cuando empezamos a trabajar en un problema de Machine Learning. <br>\n",
        "2. Saber utilizar **pandas de forma eficiente para manipular el dataset (resample de pandas, groupby etc).** <br>\n",
        "3. **Combinar la información de diferentes Series Temporales para generar variables (ventas totales de un artículo, ventas totales de todos los artículos en una tienda) con las que alimentar nuestro modelo XGBoost (CORE IDEA).**<br>\n",
        "4. **Saber identificar las variables autoexplicativas (COREA IDEA)** y sus principales causas.<br>\n",
        "5. Comprender **la importancia de iterar rápido (realizar muchos experimentos) (CORE IDEA)** para testear diferentes hipótesis y variables que se construyen.\n",
        "\n",
        "---\n",
        "\n",
        "El presente notebook contiene muchas funcionalidades avanzadas que puede requerir varias lecturas para su comprensión.\n",
        "Pensamos que las secciones marcadas con **CORE IDEA** son las que mayor beneficio le reportarán al alumno. Por este motivo, le animamos a que dedique especial atención a estas ideas.\n",
        "\n",
        "Al final del notebook, hay un sección de referencias y lecturas recomendables para que el alumno pueda seguir profundizando en estos conceptos.\n",
        "\n",
        "---"
      ]
    },
    {
      "cell_type": "markdown",
      "id": "5ee805a5",
      "metadata": {
        "id": "5ee805a5",
        "papermill": {
          "duration": 0.016343,
          "end_time": "2022-12-25T18:21:13.064692",
          "exception": false,
          "start_time": "2022-12-25T18:21:13.048349",
          "status": "completed"
        },
        "tags": []
      },
      "source": [
        "<a id='index'></a>\n",
        "### Índice\n",
        "\n",
        "[Imports del notebook](#imports_notebook)<br>\n",
        "[Data Loading](#data_load)<br>\n",
        "[La idea del Benchmark (**CORE IDEA**)](#benchmark)<br>\n",
        "[Data Imputation](#impute)<br>\n",
        "[EDA](#eda)<br>\n",
        "[--> 1. EDA: Global Sales](#eda_global_sales)<br>\n",
        "[--> 2. EDA: Top 3 Cities](#eda_top_3_cities)<br>\n",
        "[--> 3. EDA: Top 3 Categories](#eda_top_3_categories)<br>\n",
        "[Build Time Series Features (**CORE IDEA**)](#build_ts_features)<br>\n",
        "[Join TS Features](#join_ts_features)<br>\n",
        "[Train Test Split](#train_test_split)<br>\n",
        "[Model Train](#model_train)<br>\n",
        "[Model Evaluation (**COREA IDEA**)](#model_evaluation)<br>\n",
        "[Prediction](#prediction)<br>\n",
        "\n",
        "### Conclusión\n",
        "[Conclusión](#conclusion)<br>\n",
        "\n",
        "### Referencias\n",
        "[Referencias y lecturas recomendables](#referencias)<br>"
      ]
    },
    {
      "cell_type": "markdown",
      "id": "bbf4dee1",
      "metadata": {
        "id": "bbf4dee1",
        "papermill": {
          "duration": 0.016159,
          "end_time": "2022-12-25T18:21:13.097766",
          "exception": false,
          "start_time": "2022-12-25T18:21:13.081607",
          "status": "completed"
        },
        "tags": []
      },
      "source": [
        "<a id='imports_notebook'></a>\n",
        "### Imports del notebook\n",
        "[Volver al índice](#index)\n",
        "\n",
        "En este apartado hacemos los principales imports del notebook.<br>\n",
        "Sobre todo vamos a trabajar con **numpy**, **pandas**, **statsmodels** y **XGBoost**."
      ]
    },
    {
      "cell_type": "code",
      "execution_count": 1,
      "id": "4e242cfb",
      "metadata": {
        "id": "4e242cfb"
      },
      "outputs": [],
      "source": [
        "import os\n",
        "\n",
        "import pandas as pd\n",
        "import xgboost as xgb"
      ]
    },
    {
      "cell_type": "code",
      "execution_count": 2,
      "id": "722bdbf8",
      "metadata": {
        "colab": {
          "base_uri": "https://localhost:8080/"
        },
        "id": "722bdbf8",
        "outputId": "a9b7a4f4-206d-4ba9-f0c5-9771da90c317"
      },
      "outputs": [
        {
          "name": "stdout",
          "output_type": "stream",
          "text": [
            "pandas version: 2.2.1\n",
            "xgboost version: 2.0.3\n"
          ]
        }
      ],
      "source": [
        "print(f\"pandas version: {pd.__version__}\")\n",
        "print(f\"xgboost version: {xgb.__version__}\")"
      ]
    },
    {
      "cell_type": "markdown",
      "id": "63c67172",
      "metadata": {
        "id": "63c67172"
      },
      "source": [
        "if pd.__version__ != \"1.5.1\":\n",
        "    os.system(\"pip install pandas==1.5.1\")"
      ]
    },
    {
      "cell_type": "markdown",
      "id": "73ddd751",
      "metadata": {
        "id": "73ddd751"
      },
      "source": [
        "if xgb.__version__ != \"1.3.3\":\n",
        "    os.system(\"pip install xgboost==1.3.3\")"
      ]
    },
    {
      "cell_type": "code",
      "execution_count": 3,
      "id": "707e81f5",
      "metadata": {
        "execution": {
          "iopub.execute_input": "2022-12-25T18:21:13.133191Z",
          "iopub.status.busy": "2022-12-25T18:21:13.132402Z",
          "iopub.status.idle": "2022-12-25T18:21:14.327960Z",
          "shell.execute_reply": "2022-12-25T18:21:14.326955Z"
        },
        "id": "707e81f5",
        "papermill": {
          "duration": 1.216477,
          "end_time": "2022-12-25T18:21:14.330740",
          "exception": false,
          "start_time": "2022-12-25T18:21:13.114263",
          "status": "completed"
        },
        "tags": []
      },
      "outputs": [],
      "source": [
        "import pickle\n",
        "import os\n",
        "\n",
        "from datetime import datetime\n",
        "import pandas as pd\n",
        "import numpy as np\n",
        "\n",
        "import matplotlib.pyplot as plt\n",
        "%matplotlib inline\n",
        "\n",
        "from sklearn.metrics import mean_squared_error\n",
        "from sklearn.preprocessing import OrdinalEncoder\n",
        "\n",
        "import xgboost as xgb\n",
        "\n",
        "from statsmodels.graphics.tsaplots import plot_acf, plot_pacf"
      ]
    },
    {
      "cell_type": "code",
      "execution_count": 4,
      "id": "97219cf7",
      "metadata": {
        "colab": {
          "base_uri": "https://localhost:8080/"
        },
        "execution": {
          "iopub.execute_input": "2022-12-25T18:21:14.369241Z",
          "iopub.status.busy": "2022-12-25T18:21:14.368501Z",
          "iopub.status.idle": "2022-12-25T18:21:14.374207Z",
          "shell.execute_reply": "2022-12-25T18:21:14.373416Z"
        },
        "id": "97219cf7",
        "outputId": "f63514ea-36b3-40d0-e775-796fc12258f7",
        "papermill": {
          "duration": 0.026616,
          "end_time": "2022-12-25T18:21:14.377081",
          "exception": false,
          "start_time": "2022-12-25T18:21:14.350465",
          "status": "completed"
        },
        "tags": []
      },
      "outputs": [
        {
          "name": "stdout",
          "output_type": "stream",
          "text": [
            "Working with these versions of libraries\n",
            "\n",
            "--------------------------------------------------\n",
            "Numpy version 1.26.4\n",
            "Pandas version 2.2.1\n",
            "XGBoost version 2.0.3\n"
          ]
        }
      ],
      "source": [
        "print(\"Working with these versions of libraries\\n\")\n",
        "print(\"-\"*50)\n",
        "print(f\"Numpy version {np.__version__}\")\n",
        "print(f\"Pandas version {pd.__version__}\")\n",
        "print(f\"XGBoost version {xgb.__version__}\")"
      ]
    },
    {
      "cell_type": "code",
      "execution_count": 5,
      "id": "a250f195",
      "metadata": {
        "execution": {
          "iopub.execute_input": "2022-12-25T18:21:14.412091Z",
          "iopub.status.busy": "2022-12-25T18:21:14.411655Z",
          "iopub.status.idle": "2022-12-25T18:21:14.417921Z",
          "shell.execute_reply": "2022-12-25T18:21:14.416743Z"
        },
        "id": "a250f195",
        "papermill": {
          "duration": 0.026513,
          "end_time": "2022-12-25T18:21:14.420213",
          "exception": false,
          "start_time": "2022-12-25T18:21:14.393700",
          "status": "completed"
        },
        "tags": []
      },
      "outputs": [],
      "source": [
        "CWD = os.getcwd()\n",
        "PATH_DATA_FOLDER = os.path.join(CWD,\"data\")\n",
        "\n",
        "PATH_TRAIN_DATA = os.path.join(PATH_DATA_FOLDER, \"ts_kaggle_train.csv\")"
      ]
    },
    {
      "cell_type": "markdown",
      "id": "30253d6d",
      "metadata": {
        "id": "30253d6d",
        "papermill": {
          "duration": 0.016465,
          "end_time": "2022-12-25T18:21:14.571678",
          "exception": false,
          "start_time": "2022-12-25T18:21:14.555213",
          "status": "completed"
        },
        "tags": []
      },
      "source": [
        "<a id='data_load'></a>\n",
        "### Data Loading\n",
        "[Volver al índice](#index)\n",
        "\n",
        "Vamos a cargar nuestro dataset para comenzar con el EDA."
      ]
    },
    {
      "cell_type": "code",
      "execution_count": 6,
      "id": "fd354680",
      "metadata": {
        "colab": {
          "base_uri": "https://localhost:8080/",
          "height": 206
        },
        "execution": {
          "iopub.execute_input": "2022-12-25T18:21:14.607033Z",
          "iopub.status.busy": "2022-12-25T18:21:14.606316Z",
          "iopub.status.idle": "2022-12-25T18:21:15.109913Z",
          "shell.execute_reply": "2022-12-25T18:21:15.108842Z"
        },
        "id": "fd354680",
        "outputId": "b769bda6-c85f-493a-b4f8-55ba801354ee",
        "papermill": {
          "duration": 0.524399,
          "end_time": "2022-12-25T18:21:15.112681",
          "exception": false,
          "start_time": "2022-12-25T18:21:14.588282",
          "status": "completed"
        },
        "tags": []
      },
      "outputs": [
        {
          "data": {
            "text/html": [
              "<div>\n",
              "<style scoped>\n",
              "    .dataframe tbody tr th:only-of-type {\n",
              "        vertical-align: middle;\n",
              "    }\n",
              "\n",
              "    .dataframe tbody tr th {\n",
              "        vertical-align: top;\n",
              "    }\n",
              "\n",
              "    .dataframe thead th {\n",
              "        text-align: right;\n",
              "    }\n",
              "</style>\n",
              "<table border=\"1\" class=\"dataframe\">\n",
              "  <thead>\n",
              "    <tr style=\"text-align: right;\">\n",
              "      <th></th>\n",
              "      <th>date</th>\n",
              "      <th>unique_id</th>\n",
              "      <th>city_id</th>\n",
              "      <th>shop_id</th>\n",
              "      <th>item_category_id</th>\n",
              "      <th>item_id</th>\n",
              "      <th>monthly_average_price</th>\n",
              "      <th>monthly_sales</th>\n",
              "    </tr>\n",
              "  </thead>\n",
              "  <tbody>\n",
              "    <tr>\n",
              "      <th>4863</th>\n",
              "      <td>2013-09-30</td>\n",
              "      <td>28_20949</td>\n",
              "      <td>7</td>\n",
              "      <td>28</td>\n",
              "      <td>71</td>\n",
              "      <td>20949</td>\n",
              "      <td>5.0</td>\n",
              "      <td>30.0</td>\n",
              "    </tr>\n",
              "    <tr>\n",
              "      <th>10047</th>\n",
              "      <td>2014-08-31</td>\n",
              "      <td>46_20949</td>\n",
              "      <td>11</td>\n",
              "      <td>46</td>\n",
              "      <td>71</td>\n",
              "      <td>20949</td>\n",
              "      <td>5.0</td>\n",
              "      <td>30.0</td>\n",
              "    </tr>\n",
              "    <tr>\n",
              "      <th>10940</th>\n",
              "      <td>2013-03-31</td>\n",
              "      <td>52_7856</td>\n",
              "      <td>18</td>\n",
              "      <td>52</td>\n",
              "      <td>28</td>\n",
              "      <td>7856</td>\n",
              "      <td>799.0</td>\n",
              "      <td>3.0</td>\n",
              "    </tr>\n",
              "    <tr>\n",
              "      <th>2045</th>\n",
              "      <td>2015-03-31</td>\n",
              "      <td>21_16169</td>\n",
              "      <td>7</td>\n",
              "      <td>21</td>\n",
              "      <td>65</td>\n",
              "      <td>16169</td>\n",
              "      <td>299.0</td>\n",
              "      <td>4.0</td>\n",
              "    </tr>\n",
              "    <tr>\n",
              "      <th>11897</th>\n",
              "      <td>2015-10-31</td>\n",
              "      <td>55_6429</td>\n",
              "      <td>16</td>\n",
              "      <td>55</td>\n",
              "      <td>31</td>\n",
              "      <td>6429</td>\n",
              "      <td>NaN</td>\n",
              "      <td>NaN</td>\n",
              "    </tr>\n",
              "  </tbody>\n",
              "</table>\n",
              "</div>"
            ],
            "text/plain": [
              "             date unique_id  city_id  shop_id  item_category_id  item_id  \\\n",
              "4863   2013-09-30  28_20949        7       28                71    20949   \n",
              "10047  2014-08-31  46_20949       11       46                71    20949   \n",
              "10940  2013-03-31   52_7856       18       52                28     7856   \n",
              "2045   2015-03-31  21_16169        7       21                65    16169   \n",
              "11897  2015-10-31   55_6429       16       55                31     6429   \n",
              "\n",
              "       monthly_average_price  monthly_sales  \n",
              "4863                     5.0           30.0  \n",
              "10047                    5.0           30.0  \n",
              "10940                  799.0            3.0  \n",
              "2045                   299.0            4.0  \n",
              "11897                    NaN            NaN  "
            ]
          },
          "execution_count": 6,
          "metadata": {},
          "output_type": "execute_result"
        }
      ],
      "source": [
        "df = pd.read_csv(PATH_TRAIN_DATA, index_col = 0)\n",
        "df.sample(5)"
      ]
    },
    {
      "cell_type": "markdown",
      "id": "6702832f",
      "metadata": {
        "id": "6702832f",
        "papermill": {
          "duration": 0.016484,
          "end_time": "2022-12-25T18:21:15.146194",
          "exception": false,
          "start_time": "2022-12-25T18:21:15.129710",
          "status": "completed"
        },
        "tags": []
      },
      "source": [
        "Vamos a ver que tipo de datos tenemos en nuestro dataset."
      ]
    },
    {
      "cell_type": "code",
      "execution_count": 7,
      "id": "2a262ea8",
      "metadata": {
        "colab": {
          "base_uri": "https://localhost:8080/"
        },
        "execution": {
          "iopub.execute_input": "2022-12-25T18:21:15.181696Z",
          "iopub.status.busy": "2022-12-25T18:21:15.181331Z",
          "iopub.status.idle": "2022-12-25T18:21:15.218402Z",
          "shell.execute_reply": "2022-12-25T18:21:15.217195Z"
        },
        "id": "2a262ea8",
        "outputId": "f85d981a-db16-4992-f1c6-5823383ad948",
        "papermill": {
          "duration": 0.057916,
          "end_time": "2022-12-25T18:21:15.221101",
          "exception": false,
          "start_time": "2022-12-25T18:21:15.163185",
          "status": "completed"
        },
        "tags": []
      },
      "outputs": [
        {
          "name": "stdout",
          "output_type": "stream",
          "text": [
            "<class 'pandas.core.frame.DataFrame'>\n",
            "Index: 14484 entries, 0 to 14483\n",
            "Data columns (total 8 columns):\n",
            " #   Column                 Non-Null Count  Dtype  \n",
            "---  ------                 --------------  -----  \n",
            " 0   date                   14484 non-null  object \n",
            " 1   unique_id              14484 non-null  object \n",
            " 2   city_id                14484 non-null  int64  \n",
            " 3   shop_id                14484 non-null  int64  \n",
            " 4   item_category_id       14484 non-null  int64  \n",
            " 5   item_id                14484 non-null  int64  \n",
            " 6   monthly_average_price  13262 non-null  float64\n",
            " 7   monthly_sales          13756 non-null  float64\n",
            "dtypes: float64(2), int64(4), object(2)\n",
            "memory usage: 1018.4+ KB\n"
          ]
        }
      ],
      "source": [
        "df.info()"
      ]
    },
    {
      "cell_type": "code",
      "execution_count": 8,
      "id": "ced9d686",
      "metadata": {
        "id": "ced9d686"
      },
      "outputs": [],
      "source": [
        "df[\"date\"] = pd.to_datetime(df[\"date\"], format = \"%Y-%m-%d\")"
      ]
    },
    {
      "cell_type": "markdown",
      "id": "e47f8dae",
      "metadata": {
        "id": "e47f8dae",
        "papermill": {
          "duration": 0.016638,
          "end_time": "2022-12-25T18:21:15.254702",
          "exception": false,
          "start_time": "2022-12-25T18:21:15.238064",
          "status": "completed"
        },
        "tags": []
      },
      "source": [
        "<a id='benchmark'></a>\n",
        "### La idea del Benchmark (CORE IDEA)\n",
        "[Volver al índice](#index)"
      ]
    },
    {
      "cell_type": "markdown",
      "id": "24ffecbf",
      "metadata": {
        "id": "24ffecbf",
        "papermill": {
          "duration": 0.016615,
          "end_time": "2022-12-25T18:21:15.288404",
          "exception": false,
          "start_time": "2022-12-25T18:21:15.271789",
          "status": "completed"
        },
        "tags": []
      },
      "source": [
        "En el presente notebook buscamos establecer un benchmark rápido.\n",
        "\n",
        "El motivo fundamental es porque los datasets en la vida real son muy complejos y no tenemos el \"lujo\" de poder analizar todas y cada una de las variables <u>**ANTES DE ENTRENAR NUESTRO PRIMER MODELO.</u>**\n",
        "\n",
        "Establecer un benchmark nos ayuda a entender cual es el punto de partida, es decir: <u>**cual es el score mínimo para este dataset.**</u>\n",
        "\n",
        "Muchas veces este benchmark puede ser un modelo entrenado con unas pocas columnas númericas (imputando los nulos con la media). <u>**No se trata de tener el mejor modelo sino de entrenar nuestro primer modelo.**</u>\n",
        "\n",
        "Una vez sabemos cual es el punto de partida y tenemos un notebook **\"funcional\"** podemos empezar a experimentar con nuestro dataset. Por **\"notebook funcional\"** entendemos un script/notebook que podemos ejecutar en su totalidad (loading del dataset, preprocessing, train_test_split, train y predict). En cada experimento iremos añadiendo nuevas variables, diferentes imputaciones, modelos y vamos guardando el score que obtenemos. De este manera, podemos ver la contribución de cada variables y comprobar si estamos mejorando o no respecto al benchmark.\n",
        "\n",
        "Dado que este notebook es un benchmark, tenemos que **\"acotar\"** muy bien las cosas que vamos a implementar (para no irnos por las ramas).\n",
        "\n",
        "A **grosso modo** vamos a hacer las siguientes cosas:\n",
        "\n",
        "1. Tratar los nulos.\n",
        "1. Realizar un pequeño EDA sobre el dataset.\n",
        "1. Crear algunas variables rápidas para el entrenamiento.\n",
        "1. Entrenar el algoritmo.\n",
        "1. Evaluar el modelo.\n",
        "1. Hacer el submit a Kaggle.\n",
        "\n",
        "Empecemos:"
      ]
    },
    {
      "cell_type": "markdown",
      "id": "f478f852",
      "metadata": {
        "execution": {
          "iopub.execute_input": "2022-12-22T22:32:00.326712Z",
          "iopub.status.busy": "2022-12-22T22:32:00.326289Z",
          "iopub.status.idle": "2022-12-22T22:32:00.341842Z",
          "shell.execute_reply": "2022-12-22T22:32:00.340543Z",
          "shell.execute_reply.started": "2022-12-22T22:32:00.326673Z"
        },
        "id": "f478f852",
        "papermill": {
          "duration": 0.016523,
          "end_time": "2022-12-25T18:21:15.321776",
          "exception": false,
          "start_time": "2022-12-25T18:21:15.305253",
          "status": "completed"
        },
        "tags": []
      },
      "source": [
        "Tenemos un total de 426 Series Temporales en el dataset:"
      ]
    },
    {
      "cell_type": "code",
      "execution_count": 9,
      "id": "64638d2b",
      "metadata": {
        "colab": {
          "base_uri": "https://localhost:8080/"
        },
        "execution": {
          "iopub.execute_input": "2022-12-25T18:21:15.357311Z",
          "iopub.status.busy": "2022-12-25T18:21:15.356920Z",
          "iopub.status.idle": "2022-12-25T18:21:15.369865Z",
          "shell.execute_reply": "2022-12-25T18:21:15.369027Z"
        },
        "id": "64638d2b",
        "outputId": "7ac53966-e75b-43ff-a203-f3be2b57f24f",
        "papermill": {
          "duration": 0.033397,
          "end_time": "2022-12-25T18:21:15.372007",
          "exception": false,
          "start_time": "2022-12-25T18:21:15.338610",
          "status": "completed"
        },
        "tags": []
      },
      "outputs": [
        {
          "data": {
            "text/plain": [
              "426"
            ]
          },
          "execution_count": 9,
          "metadata": {},
          "output_type": "execute_result"
        }
      ],
      "source": [
        "df[\"unique_id\"].nunique()"
      ]
    },
    {
      "cell_type": "markdown",
      "id": "8b4608a8",
      "metadata": {
        "id": "8b4608a8",
        "papermill": {
          "duration": 0.016732,
          "end_time": "2022-12-25T18:21:15.405908",
          "exception": false,
          "start_time": "2022-12-25T18:21:15.389176",
          "status": "completed"
        },
        "tags": []
      },
      "source": [
        "Veamos cuales son las fechas min y max de nuestro dataset:"
      ]
    },
    {
      "cell_type": "code",
      "execution_count": 10,
      "id": "41e5fa23",
      "metadata": {
        "execution": {
          "iopub.execute_input": "2022-12-25T18:21:15.446890Z",
          "iopub.status.busy": "2022-12-25T18:21:15.446139Z",
          "iopub.status.idle": "2022-12-25T18:21:15.452067Z",
          "shell.execute_reply": "2022-12-25T18:21:15.451154Z"
        },
        "id": "41e5fa23",
        "papermill": {
          "duration": 0.029077,
          "end_time": "2022-12-25T18:21:15.454358",
          "exception": false,
          "start_time": "2022-12-25T18:21:15.425281",
          "status": "completed"
        },
        "tags": []
      },
      "outputs": [],
      "source": [
        "MIN_DATE = df[\"date\"].min()\n",
        "MAX_DATE = df[\"date\"].max()"
      ]
    },
    {
      "cell_type": "code",
      "execution_count": 11,
      "id": "300bd8a9",
      "metadata": {
        "colab": {
          "base_uri": "https://localhost:8080/"
        },
        "execution": {
          "iopub.execute_input": "2022-12-25T18:21:15.504473Z",
          "iopub.status.busy": "2022-12-25T18:21:15.503672Z",
          "iopub.status.idle": "2022-12-25T18:21:15.511147Z",
          "shell.execute_reply": "2022-12-25T18:21:15.509356Z"
        },
        "id": "300bd8a9",
        "outputId": "8aa7e137-0d2a-43a4-d597-eaf60c0ecf06",
        "papermill": {
          "duration": 0.03653,
          "end_time": "2022-12-25T18:21:15.513883",
          "exception": false,
          "start_time": "2022-12-25T18:21:15.477353",
          "status": "completed"
        },
        "tags": []
      },
      "outputs": [
        {
          "name": "stdout",
          "output_type": "stream",
          "text": [
            "Min date is 2013-01-31 00:00:00\n",
            "Max date is 2015-10-31 00:00:00\n"
          ]
        }
      ],
      "source": [
        "print(f\"Min date is {MIN_DATE}\\nMax date is {MAX_DATE}\")"
      ]
    },
    {
      "cell_type": "code",
      "execution_count": 12,
      "id": "7ef736c5",
      "metadata": {
        "colab": {
          "base_uri": "https://localhost:8080/"
        },
        "id": "7ef736c5",
        "outputId": "8a70b350-bdd2-4541-ce8a-52d260c5e930"
      },
      "outputs": [
        {
          "data": {
            "text/plain": [
              "date                        0\n",
              "unique_id                   0\n",
              "city_id                     0\n",
              "shop_id                     0\n",
              "item_category_id            0\n",
              "item_id                     0\n",
              "monthly_average_price    1222\n",
              "monthly_sales             728\n",
              "dtype: int64"
            ]
          },
          "execution_count": 12,
          "metadata": {},
          "output_type": "execute_result"
        }
      ],
      "source": [
        "df.isnull().sum()"
      ]
    },
    {
      "cell_type": "markdown",
      "id": "047e0ab1",
      "metadata": {
        "id": "047e0ab1",
        "papermill": {
          "duration": 0.02233,
          "end_time": "2022-12-25T18:21:22.049371",
          "exception": false,
          "start_time": "2022-12-25T18:21:22.027041",
          "status": "completed"
        },
        "tags": []
      },
      "source": [
        "<a id='impute'></a>\n",
        "### Data Imputation\n",
        "[Volver al índice](#index)<br>"
      ]
    },
    {
      "cell_type": "code",
      "execution_count": 13,
      "id": "58857c4c",
      "metadata": {
        "id": "58857c4c"
      },
      "outputs": [],
      "source": [
        "sample_ts = \"31_4249\""
      ]
    },
    {
      "cell_type": "code",
      "execution_count": 14,
      "id": "a84fc5e1",
      "metadata": {
        "colab": {
          "base_uri": "https://localhost:8080/",
          "height": 1000
        },
        "id": "a84fc5e1",
        "outputId": "ebc567af-2fd1-41ad-9b74-66efd45449a4"
      },
      "outputs": [
        {
          "data": {
            "text/html": [
              "<div>\n",
              "<style scoped>\n",
              "    .dataframe tbody tr th:only-of-type {\n",
              "        vertical-align: middle;\n",
              "    }\n",
              "\n",
              "    .dataframe tbody tr th {\n",
              "        vertical-align: top;\n",
              "    }\n",
              "\n",
              "    .dataframe thead th {\n",
              "        text-align: right;\n",
              "    }\n",
              "</style>\n",
              "<table border=\"1\" class=\"dataframe\">\n",
              "  <thead>\n",
              "    <tr style=\"text-align: right;\">\n",
              "      <th></th>\n",
              "      <th>date</th>\n",
              "      <th>unique_id</th>\n",
              "      <th>city_id</th>\n",
              "      <th>shop_id</th>\n",
              "      <th>item_category_id</th>\n",
              "      <th>item_id</th>\n",
              "      <th>monthly_average_price</th>\n",
              "      <th>monthly_sales</th>\n",
              "    </tr>\n",
              "  </thead>\n",
              "  <tbody>\n",
              "    <tr>\n",
              "      <th>5666</th>\n",
              "      <td>2013-01-31</td>\n",
              "      <td>31_4249</td>\n",
              "      <td>7</td>\n",
              "      <td>31</td>\n",
              "      <td>23</td>\n",
              "      <td>4249</td>\n",
              "      <td>1899.000000</td>\n",
              "      <td>2.0</td>\n",
              "    </tr>\n",
              "    <tr>\n",
              "      <th>5743</th>\n",
              "      <td>2013-02-28</td>\n",
              "      <td>31_4249</td>\n",
              "      <td>7</td>\n",
              "      <td>31</td>\n",
              "      <td>23</td>\n",
              "      <td>4249</td>\n",
              "      <td>1599.000000</td>\n",
              "      <td>5.0</td>\n",
              "    </tr>\n",
              "    <tr>\n",
              "      <th>5820</th>\n",
              "      <td>2013-03-31</td>\n",
              "      <td>31_4249</td>\n",
              "      <td>7</td>\n",
              "      <td>31</td>\n",
              "      <td>23</td>\n",
              "      <td>4249</td>\n",
              "      <td>1013.416000</td>\n",
              "      <td>6.0</td>\n",
              "    </tr>\n",
              "    <tr>\n",
              "      <th>5897</th>\n",
              "      <td>2013-04-30</td>\n",
              "      <td>31_4249</td>\n",
              "      <td>7</td>\n",
              "      <td>31</td>\n",
              "      <td>23</td>\n",
              "      <td>4249</td>\n",
              "      <td>1598.900000</td>\n",
              "      <td>10.0</td>\n",
              "    </tr>\n",
              "    <tr>\n",
              "      <th>5974</th>\n",
              "      <td>2013-05-31</td>\n",
              "      <td>31_4249</td>\n",
              "      <td>7</td>\n",
              "      <td>31</td>\n",
              "      <td>23</td>\n",
              "      <td>4249</td>\n",
              "      <td>1598.937500</td>\n",
              "      <td>8.0</td>\n",
              "    </tr>\n",
              "    <tr>\n",
              "      <th>6051</th>\n",
              "      <td>2013-06-30</td>\n",
              "      <td>31_4249</td>\n",
              "      <td>7</td>\n",
              "      <td>31</td>\n",
              "      <td>23</td>\n",
              "      <td>4249</td>\n",
              "      <td>1599.000000</td>\n",
              "      <td>4.0</td>\n",
              "    </tr>\n",
              "    <tr>\n",
              "      <th>6128</th>\n",
              "      <td>2013-07-31</td>\n",
              "      <td>31_4249</td>\n",
              "      <td>7</td>\n",
              "      <td>31</td>\n",
              "      <td>23</td>\n",
              "      <td>4249</td>\n",
              "      <td>1399.000000</td>\n",
              "      <td>4.0</td>\n",
              "    </tr>\n",
              "    <tr>\n",
              "      <th>6205</th>\n",
              "      <td>2013-08-31</td>\n",
              "      <td>31_4249</td>\n",
              "      <td>7</td>\n",
              "      <td>31</td>\n",
              "      <td>23</td>\n",
              "      <td>4249</td>\n",
              "      <td>1599.000000</td>\n",
              "      <td>2.0</td>\n",
              "    </tr>\n",
              "    <tr>\n",
              "      <th>6282</th>\n",
              "      <td>2013-09-30</td>\n",
              "      <td>31_4249</td>\n",
              "      <td>7</td>\n",
              "      <td>31</td>\n",
              "      <td>23</td>\n",
              "      <td>4249</td>\n",
              "      <td>1199.000000</td>\n",
              "      <td>5.0</td>\n",
              "    </tr>\n",
              "    <tr>\n",
              "      <th>6359</th>\n",
              "      <td>2013-10-31</td>\n",
              "      <td>31_4249</td>\n",
              "      <td>7</td>\n",
              "      <td>31</td>\n",
              "      <td>23</td>\n",
              "      <td>4249</td>\n",
              "      <td>929.075000</td>\n",
              "      <td>4.0</td>\n",
              "    </tr>\n",
              "    <tr>\n",
              "      <th>6436</th>\n",
              "      <td>2013-11-30</td>\n",
              "      <td>31_4249</td>\n",
              "      <td>7</td>\n",
              "      <td>31</td>\n",
              "      <td>23</td>\n",
              "      <td>4249</td>\n",
              "      <td>1199.000000</td>\n",
              "      <td>5.0</td>\n",
              "    </tr>\n",
              "    <tr>\n",
              "      <th>6513</th>\n",
              "      <td>2013-12-31</td>\n",
              "      <td>31_4249</td>\n",
              "      <td>7</td>\n",
              "      <td>31</td>\n",
              "      <td>23</td>\n",
              "      <td>4249</td>\n",
              "      <td>1199.000000</td>\n",
              "      <td>6.0</td>\n",
              "    </tr>\n",
              "    <tr>\n",
              "      <th>6590</th>\n",
              "      <td>2014-01-31</td>\n",
              "      <td>31_4249</td>\n",
              "      <td>7</td>\n",
              "      <td>31</td>\n",
              "      <td>23</td>\n",
              "      <td>4249</td>\n",
              "      <td>1199.000000</td>\n",
              "      <td>12.0</td>\n",
              "    </tr>\n",
              "    <tr>\n",
              "      <th>6667</th>\n",
              "      <td>2014-02-28</td>\n",
              "      <td>31_4249</td>\n",
              "      <td>7</td>\n",
              "      <td>31</td>\n",
              "      <td>23</td>\n",
              "      <td>4249</td>\n",
              "      <td>1199.000000</td>\n",
              "      <td>7.0</td>\n",
              "    </tr>\n",
              "    <tr>\n",
              "      <th>6744</th>\n",
              "      <td>2014-03-31</td>\n",
              "      <td>31_4249</td>\n",
              "      <td>7</td>\n",
              "      <td>31</td>\n",
              "      <td>23</td>\n",
              "      <td>4249</td>\n",
              "      <td>965.670000</td>\n",
              "      <td>12.0</td>\n",
              "    </tr>\n",
              "    <tr>\n",
              "      <th>6821</th>\n",
              "      <td>2014-04-30</td>\n",
              "      <td>31_4249</td>\n",
              "      <td>7</td>\n",
              "      <td>31</td>\n",
              "      <td>23</td>\n",
              "      <td>4249</td>\n",
              "      <td>838.800000</td>\n",
              "      <td>3.0</td>\n",
              "    </tr>\n",
              "    <tr>\n",
              "      <th>6898</th>\n",
              "      <td>2014-05-31</td>\n",
              "      <td>31_4249</td>\n",
              "      <td>7</td>\n",
              "      <td>31</td>\n",
              "      <td>23</td>\n",
              "      <td>4249</td>\n",
              "      <td>839.100000</td>\n",
              "      <td>3.0</td>\n",
              "    </tr>\n",
              "    <tr>\n",
              "      <th>6975</th>\n",
              "      <td>2014-06-30</td>\n",
              "      <td>31_4249</td>\n",
              "      <td>7</td>\n",
              "      <td>31</td>\n",
              "      <td>23</td>\n",
              "      <td>4249</td>\n",
              "      <td>839.000000</td>\n",
              "      <td>3.0</td>\n",
              "    </tr>\n",
              "    <tr>\n",
              "      <th>7052</th>\n",
              "      <td>2014-07-31</td>\n",
              "      <td>31_4249</td>\n",
              "      <td>7</td>\n",
              "      <td>31</td>\n",
              "      <td>23</td>\n",
              "      <td>4249</td>\n",
              "      <td>NaN</td>\n",
              "      <td>0.0</td>\n",
              "    </tr>\n",
              "    <tr>\n",
              "      <th>7129</th>\n",
              "      <td>2014-08-31</td>\n",
              "      <td>31_4249</td>\n",
              "      <td>7</td>\n",
              "      <td>31</td>\n",
              "      <td>23</td>\n",
              "      <td>4249</td>\n",
              "      <td>930.561667</td>\n",
              "      <td>6.0</td>\n",
              "    </tr>\n",
              "    <tr>\n",
              "      <th>7206</th>\n",
              "      <td>2014-09-30</td>\n",
              "      <td>31_4249</td>\n",
              "      <td>7</td>\n",
              "      <td>31</td>\n",
              "      <td>23</td>\n",
              "      <td>4249</td>\n",
              "      <td>801.107500</td>\n",
              "      <td>4.0</td>\n",
              "    </tr>\n",
              "    <tr>\n",
              "      <th>7283</th>\n",
              "      <td>2014-10-31</td>\n",
              "      <td>31_4249</td>\n",
              "      <td>7</td>\n",
              "      <td>31</td>\n",
              "      <td>23</td>\n",
              "      <td>4249</td>\n",
              "      <td>1199.000000</td>\n",
              "      <td>2.0</td>\n",
              "    </tr>\n",
              "    <tr>\n",
              "      <th>7360</th>\n",
              "      <td>2014-11-30</td>\n",
              "      <td>31_4249</td>\n",
              "      <td>7</td>\n",
              "      <td>31</td>\n",
              "      <td>23</td>\n",
              "      <td>4249</td>\n",
              "      <td>774.281667</td>\n",
              "      <td>10.0</td>\n",
              "    </tr>\n",
              "    <tr>\n",
              "      <th>7437</th>\n",
              "      <td>2014-12-31</td>\n",
              "      <td>31_4249</td>\n",
              "      <td>7</td>\n",
              "      <td>31</td>\n",
              "      <td>23</td>\n",
              "      <td>4249</td>\n",
              "      <td>698.840303</td>\n",
              "      <td>19.0</td>\n",
              "    </tr>\n",
              "    <tr>\n",
              "      <th>7514</th>\n",
              "      <td>2015-01-31</td>\n",
              "      <td>31_4249</td>\n",
              "      <td>7</td>\n",
              "      <td>31</td>\n",
              "      <td>23</td>\n",
              "      <td>4249</td>\n",
              "      <td>928.543333</td>\n",
              "      <td>6.0</td>\n",
              "    </tr>\n",
              "    <tr>\n",
              "      <th>7591</th>\n",
              "      <td>2015-02-28</td>\n",
              "      <td>31_4249</td>\n",
              "      <td>7</td>\n",
              "      <td>31</td>\n",
              "      <td>23</td>\n",
              "      <td>4249</td>\n",
              "      <td>851.603333</td>\n",
              "      <td>7.0</td>\n",
              "    </tr>\n",
              "    <tr>\n",
              "      <th>7668</th>\n",
              "      <td>2015-03-31</td>\n",
              "      <td>31_4249</td>\n",
              "      <td>7</td>\n",
              "      <td>31</td>\n",
              "      <td>23</td>\n",
              "      <td>4249</td>\n",
              "      <td>898.813333</td>\n",
              "      <td>3.0</td>\n",
              "    </tr>\n",
              "    <tr>\n",
              "      <th>7745</th>\n",
              "      <td>2015-04-30</td>\n",
              "      <td>31_4249</td>\n",
              "      <td>7</td>\n",
              "      <td>31</td>\n",
              "      <td>23</td>\n",
              "      <td>4249</td>\n",
              "      <td>NaN</td>\n",
              "      <td>0.0</td>\n",
              "    </tr>\n",
              "    <tr>\n",
              "      <th>7822</th>\n",
              "      <td>2015-05-31</td>\n",
              "      <td>31_4249</td>\n",
              "      <td>7</td>\n",
              "      <td>31</td>\n",
              "      <td>23</td>\n",
              "      <td>4249</td>\n",
              "      <td>NaN</td>\n",
              "      <td>0.0</td>\n",
              "    </tr>\n",
              "    <tr>\n",
              "      <th>7899</th>\n",
              "      <td>2015-06-30</td>\n",
              "      <td>31_4249</td>\n",
              "      <td>7</td>\n",
              "      <td>31</td>\n",
              "      <td>23</td>\n",
              "      <td>4249</td>\n",
              "      <td>884.300000</td>\n",
              "      <td>3.0</td>\n",
              "    </tr>\n",
              "    <tr>\n",
              "      <th>7976</th>\n",
              "      <td>2015-07-31</td>\n",
              "      <td>31_4249</td>\n",
              "      <td>7</td>\n",
              "      <td>31</td>\n",
              "      <td>23</td>\n",
              "      <td>4249</td>\n",
              "      <td>1135.686667</td>\n",
              "      <td>3.0</td>\n",
              "    </tr>\n",
              "    <tr>\n",
              "      <th>8053</th>\n",
              "      <td>2015-08-31</td>\n",
              "      <td>31_4249</td>\n",
              "      <td>7</td>\n",
              "      <td>31</td>\n",
              "      <td>23</td>\n",
              "      <td>4249</td>\n",
              "      <td>1347.050000</td>\n",
              "      <td>3.0</td>\n",
              "    </tr>\n",
              "    <tr>\n",
              "      <th>8130</th>\n",
              "      <td>2015-09-30</td>\n",
              "      <td>31_4249</td>\n",
              "      <td>7</td>\n",
              "      <td>31</td>\n",
              "      <td>23</td>\n",
              "      <td>4249</td>\n",
              "      <td>901.280000</td>\n",
              "      <td>4.0</td>\n",
              "    </tr>\n",
              "    <tr>\n",
              "      <th>8207</th>\n",
              "      <td>2015-10-31</td>\n",
              "      <td>31_4249</td>\n",
              "      <td>7</td>\n",
              "      <td>31</td>\n",
              "      <td>23</td>\n",
              "      <td>4249</td>\n",
              "      <td>NaN</td>\n",
              "      <td>NaN</td>\n",
              "    </tr>\n",
              "  </tbody>\n",
              "</table>\n",
              "</div>"
            ],
            "text/plain": [
              "           date unique_id  city_id  shop_id  item_category_id  item_id  \\\n",
              "5666 2013-01-31   31_4249        7       31                23     4249   \n",
              "5743 2013-02-28   31_4249        7       31                23     4249   \n",
              "5820 2013-03-31   31_4249        7       31                23     4249   \n",
              "5897 2013-04-30   31_4249        7       31                23     4249   \n",
              "5974 2013-05-31   31_4249        7       31                23     4249   \n",
              "6051 2013-06-30   31_4249        7       31                23     4249   \n",
              "6128 2013-07-31   31_4249        7       31                23     4249   \n",
              "6205 2013-08-31   31_4249        7       31                23     4249   \n",
              "6282 2013-09-30   31_4249        7       31                23     4249   \n",
              "6359 2013-10-31   31_4249        7       31                23     4249   \n",
              "6436 2013-11-30   31_4249        7       31                23     4249   \n",
              "6513 2013-12-31   31_4249        7       31                23     4249   \n",
              "6590 2014-01-31   31_4249        7       31                23     4249   \n",
              "6667 2014-02-28   31_4249        7       31                23     4249   \n",
              "6744 2014-03-31   31_4249        7       31                23     4249   \n",
              "6821 2014-04-30   31_4249        7       31                23     4249   \n",
              "6898 2014-05-31   31_4249        7       31                23     4249   \n",
              "6975 2014-06-30   31_4249        7       31                23     4249   \n",
              "7052 2014-07-31   31_4249        7       31                23     4249   \n",
              "7129 2014-08-31   31_4249        7       31                23     4249   \n",
              "7206 2014-09-30   31_4249        7       31                23     4249   \n",
              "7283 2014-10-31   31_4249        7       31                23     4249   \n",
              "7360 2014-11-30   31_4249        7       31                23     4249   \n",
              "7437 2014-12-31   31_4249        7       31                23     4249   \n",
              "7514 2015-01-31   31_4249        7       31                23     4249   \n",
              "7591 2015-02-28   31_4249        7       31                23     4249   \n",
              "7668 2015-03-31   31_4249        7       31                23     4249   \n",
              "7745 2015-04-30   31_4249        7       31                23     4249   \n",
              "7822 2015-05-31   31_4249        7       31                23     4249   \n",
              "7899 2015-06-30   31_4249        7       31                23     4249   \n",
              "7976 2015-07-31   31_4249        7       31                23     4249   \n",
              "8053 2015-08-31   31_4249        7       31                23     4249   \n",
              "8130 2015-09-30   31_4249        7       31                23     4249   \n",
              "8207 2015-10-31   31_4249        7       31                23     4249   \n",
              "\n",
              "      monthly_average_price  monthly_sales  \n",
              "5666            1899.000000            2.0  \n",
              "5743            1599.000000            5.0  \n",
              "5820            1013.416000            6.0  \n",
              "5897            1598.900000           10.0  \n",
              "5974            1598.937500            8.0  \n",
              "6051            1599.000000            4.0  \n",
              "6128            1399.000000            4.0  \n",
              "6205            1599.000000            2.0  \n",
              "6282            1199.000000            5.0  \n",
              "6359             929.075000            4.0  \n",
              "6436            1199.000000            5.0  \n",
              "6513            1199.000000            6.0  \n",
              "6590            1199.000000           12.0  \n",
              "6667            1199.000000            7.0  \n",
              "6744             965.670000           12.0  \n",
              "6821             838.800000            3.0  \n",
              "6898             839.100000            3.0  \n",
              "6975             839.000000            3.0  \n",
              "7052                    NaN            0.0  \n",
              "7129             930.561667            6.0  \n",
              "7206             801.107500            4.0  \n",
              "7283            1199.000000            2.0  \n",
              "7360             774.281667           10.0  \n",
              "7437             698.840303           19.0  \n",
              "7514             928.543333            6.0  \n",
              "7591             851.603333            7.0  \n",
              "7668             898.813333            3.0  \n",
              "7745                    NaN            0.0  \n",
              "7822                    NaN            0.0  \n",
              "7899             884.300000            3.0  \n",
              "7976            1135.686667            3.0  \n",
              "8053            1347.050000            3.0  \n",
              "8130             901.280000            4.0  \n",
              "8207                    NaN            NaN  "
            ]
          },
          "execution_count": 14,
          "metadata": {},
          "output_type": "execute_result"
        }
      ],
      "source": [
        "df[df[\"unique_id\"] == sample_ts]"
      ]
    },
    {
      "cell_type": "code",
      "execution_count": 15,
      "id": "584b0383",
      "metadata": {
        "execution": {
          "iopub.execute_input": "2022-12-25T18:21:22.210198Z",
          "iopub.status.busy": "2022-12-25T18:21:22.209194Z",
          "iopub.status.idle": "2022-12-25T18:21:22.216573Z",
          "shell.execute_reply": "2022-12-25T18:21:22.215687Z"
        },
        "id": "584b0383",
        "papermill": {
          "duration": 0.032436,
          "end_time": "2022-12-25T18:21:22.218832",
          "exception": false,
          "start_time": "2022-12-25T18:21:22.186396",
          "status": "completed"
        },
        "tags": []
      },
      "outputs": [
        {
          "name": "stderr",
          "output_type": "stream",
          "text": [
            "C:\\Users\\dvdgo\\AppData\\Local\\Temp\\ipykernel_16528\\2883687203.py:1: FutureWarning: A value is trying to be set on a copy of a DataFrame or Series through chained assignment using an inplace method.\n",
            "The behavior will change in pandas 3.0. This inplace method will never work because the intermediate object on which we are setting values always behaves as a copy.\n",
            "\n",
            "For example, when doing 'df[col].method(value, inplace=True)', try using 'df.method({col: value}, inplace=True)' or df[col] = df[col].method(value) instead, to perform the operation inplace on the original object.\n",
            "\n",
            "\n",
            "  df[\"monthly_sales\"].fillna(0, inplace = True)\n"
          ]
        }
      ],
      "source": [
        "df[\"monthly_sales\"].fillna(0, inplace = True)"
      ]
    },
    {
      "cell_type": "code",
      "execution_count": 16,
      "id": "9145d3e8",
      "metadata": {
        "execution": {
          "iopub.execute_input": "2022-12-25T18:21:22.327926Z",
          "iopub.status.busy": "2022-12-25T18:21:22.327075Z",
          "iopub.status.idle": "2022-12-25T18:21:22.417466Z",
          "shell.execute_reply": "2022-12-25T18:21:22.416411Z"
        },
        "id": "9145d3e8",
        "papermill": {
          "duration": 0.116065,
          "end_time": "2022-12-25T18:21:22.420249",
          "exception": false,
          "start_time": "2022-12-25T18:21:22.304184",
          "status": "completed"
        },
        "tags": []
      },
      "outputs": [
        {
          "name": "stderr",
          "output_type": "stream",
          "text": [
            "C:\\Users\\dvdgo\\AppData\\Local\\Temp\\ipykernel_16528\\2476516156.py:2: FutureWarning: DataFrame.backfill/Series.backfill is deprecated. Use DataFrame.bfill/Series.bfill instead\n",
            "  lambda series: series.backfill().ffill()\n"
          ]
        }
      ],
      "source": [
        "df[\"monthly_average_price\"] = df.groupby(\"unique_id\", group_keys = False)[\"monthly_average_price\"].apply(\n",
        "    lambda series: series.backfill().ffill()\n",
        ")"
      ]
    },
    {
      "cell_type": "code",
      "execution_count": 17,
      "id": "e7394811",
      "metadata": {
        "colab": {
          "base_uri": "https://localhost:8080/"
        },
        "id": "e7394811",
        "outputId": "3a2e6fc9-dda6-4b9e-b6d0-7046244941c8"
      },
      "outputs": [
        {
          "data": {
            "text/plain": [
              "date                     0\n",
              "unique_id                0\n",
              "city_id                  0\n",
              "shop_id                  0\n",
              "item_category_id         0\n",
              "item_id                  0\n",
              "monthly_average_price    0\n",
              "monthly_sales            0\n",
              "dtype: int64"
            ]
          },
          "execution_count": 17,
          "metadata": {},
          "output_type": "execute_result"
        }
      ],
      "source": [
        "df.isnull().sum()"
      ]
    },
    {
      "cell_type": "code",
      "execution_count": 18,
      "id": "635da804",
      "metadata": {
        "id": "635da804"
      },
      "outputs": [],
      "source": [
        "df.sort_values([\"unique_id\", \"date\"], ascending = True, inplace = True)"
      ]
    },
    {
      "cell_type": "code",
      "execution_count": 19,
      "id": "50ee0c2f",
      "metadata": {
        "colab": {
          "base_uri": "https://localhost:8080/",
          "height": 1000
        },
        "id": "50ee0c2f",
        "outputId": "7f906160-e6b5-462f-e286-952888d87351"
      },
      "outputs": [
        {
          "data": {
            "text/html": [
              "<div>\n",
              "<style scoped>\n",
              "    .dataframe tbody tr th:only-of-type {\n",
              "        vertical-align: middle;\n",
              "    }\n",
              "\n",
              "    .dataframe tbody tr th {\n",
              "        vertical-align: top;\n",
              "    }\n",
              "\n",
              "    .dataframe thead th {\n",
              "        text-align: right;\n",
              "    }\n",
              "</style>\n",
              "<table border=\"1\" class=\"dataframe\">\n",
              "  <thead>\n",
              "    <tr style=\"text-align: right;\">\n",
              "      <th></th>\n",
              "      <th>date</th>\n",
              "      <th>unique_id</th>\n",
              "      <th>city_id</th>\n",
              "      <th>shop_id</th>\n",
              "      <th>item_category_id</th>\n",
              "      <th>item_id</th>\n",
              "      <th>monthly_average_price</th>\n",
              "      <th>monthly_sales</th>\n",
              "    </tr>\n",
              "  </thead>\n",
              "  <tbody>\n",
              "    <tr>\n",
              "      <th>5666</th>\n",
              "      <td>2013-01-31</td>\n",
              "      <td>31_4249</td>\n",
              "      <td>7</td>\n",
              "      <td>31</td>\n",
              "      <td>23</td>\n",
              "      <td>4249</td>\n",
              "      <td>1899.000000</td>\n",
              "      <td>2.0</td>\n",
              "    </tr>\n",
              "    <tr>\n",
              "      <th>5743</th>\n",
              "      <td>2013-02-28</td>\n",
              "      <td>31_4249</td>\n",
              "      <td>7</td>\n",
              "      <td>31</td>\n",
              "      <td>23</td>\n",
              "      <td>4249</td>\n",
              "      <td>1599.000000</td>\n",
              "      <td>5.0</td>\n",
              "    </tr>\n",
              "    <tr>\n",
              "      <th>5820</th>\n",
              "      <td>2013-03-31</td>\n",
              "      <td>31_4249</td>\n",
              "      <td>7</td>\n",
              "      <td>31</td>\n",
              "      <td>23</td>\n",
              "      <td>4249</td>\n",
              "      <td>1013.416000</td>\n",
              "      <td>6.0</td>\n",
              "    </tr>\n",
              "    <tr>\n",
              "      <th>5897</th>\n",
              "      <td>2013-04-30</td>\n",
              "      <td>31_4249</td>\n",
              "      <td>7</td>\n",
              "      <td>31</td>\n",
              "      <td>23</td>\n",
              "      <td>4249</td>\n",
              "      <td>1598.900000</td>\n",
              "      <td>10.0</td>\n",
              "    </tr>\n",
              "    <tr>\n",
              "      <th>5974</th>\n",
              "      <td>2013-05-31</td>\n",
              "      <td>31_4249</td>\n",
              "      <td>7</td>\n",
              "      <td>31</td>\n",
              "      <td>23</td>\n",
              "      <td>4249</td>\n",
              "      <td>1598.937500</td>\n",
              "      <td>8.0</td>\n",
              "    </tr>\n",
              "    <tr>\n",
              "      <th>6051</th>\n",
              "      <td>2013-06-30</td>\n",
              "      <td>31_4249</td>\n",
              "      <td>7</td>\n",
              "      <td>31</td>\n",
              "      <td>23</td>\n",
              "      <td>4249</td>\n",
              "      <td>1599.000000</td>\n",
              "      <td>4.0</td>\n",
              "    </tr>\n",
              "    <tr>\n",
              "      <th>6128</th>\n",
              "      <td>2013-07-31</td>\n",
              "      <td>31_4249</td>\n",
              "      <td>7</td>\n",
              "      <td>31</td>\n",
              "      <td>23</td>\n",
              "      <td>4249</td>\n",
              "      <td>1399.000000</td>\n",
              "      <td>4.0</td>\n",
              "    </tr>\n",
              "    <tr>\n",
              "      <th>6205</th>\n",
              "      <td>2013-08-31</td>\n",
              "      <td>31_4249</td>\n",
              "      <td>7</td>\n",
              "      <td>31</td>\n",
              "      <td>23</td>\n",
              "      <td>4249</td>\n",
              "      <td>1599.000000</td>\n",
              "      <td>2.0</td>\n",
              "    </tr>\n",
              "    <tr>\n",
              "      <th>6282</th>\n",
              "      <td>2013-09-30</td>\n",
              "      <td>31_4249</td>\n",
              "      <td>7</td>\n",
              "      <td>31</td>\n",
              "      <td>23</td>\n",
              "      <td>4249</td>\n",
              "      <td>1199.000000</td>\n",
              "      <td>5.0</td>\n",
              "    </tr>\n",
              "    <tr>\n",
              "      <th>6359</th>\n",
              "      <td>2013-10-31</td>\n",
              "      <td>31_4249</td>\n",
              "      <td>7</td>\n",
              "      <td>31</td>\n",
              "      <td>23</td>\n",
              "      <td>4249</td>\n",
              "      <td>929.075000</td>\n",
              "      <td>4.0</td>\n",
              "    </tr>\n",
              "    <tr>\n",
              "      <th>6436</th>\n",
              "      <td>2013-11-30</td>\n",
              "      <td>31_4249</td>\n",
              "      <td>7</td>\n",
              "      <td>31</td>\n",
              "      <td>23</td>\n",
              "      <td>4249</td>\n",
              "      <td>1199.000000</td>\n",
              "      <td>5.0</td>\n",
              "    </tr>\n",
              "    <tr>\n",
              "      <th>6513</th>\n",
              "      <td>2013-12-31</td>\n",
              "      <td>31_4249</td>\n",
              "      <td>7</td>\n",
              "      <td>31</td>\n",
              "      <td>23</td>\n",
              "      <td>4249</td>\n",
              "      <td>1199.000000</td>\n",
              "      <td>6.0</td>\n",
              "    </tr>\n",
              "    <tr>\n",
              "      <th>6590</th>\n",
              "      <td>2014-01-31</td>\n",
              "      <td>31_4249</td>\n",
              "      <td>7</td>\n",
              "      <td>31</td>\n",
              "      <td>23</td>\n",
              "      <td>4249</td>\n",
              "      <td>1199.000000</td>\n",
              "      <td>12.0</td>\n",
              "    </tr>\n",
              "    <tr>\n",
              "      <th>6667</th>\n",
              "      <td>2014-02-28</td>\n",
              "      <td>31_4249</td>\n",
              "      <td>7</td>\n",
              "      <td>31</td>\n",
              "      <td>23</td>\n",
              "      <td>4249</td>\n",
              "      <td>1199.000000</td>\n",
              "      <td>7.0</td>\n",
              "    </tr>\n",
              "    <tr>\n",
              "      <th>6744</th>\n",
              "      <td>2014-03-31</td>\n",
              "      <td>31_4249</td>\n",
              "      <td>7</td>\n",
              "      <td>31</td>\n",
              "      <td>23</td>\n",
              "      <td>4249</td>\n",
              "      <td>965.670000</td>\n",
              "      <td>12.0</td>\n",
              "    </tr>\n",
              "    <tr>\n",
              "      <th>6821</th>\n",
              "      <td>2014-04-30</td>\n",
              "      <td>31_4249</td>\n",
              "      <td>7</td>\n",
              "      <td>31</td>\n",
              "      <td>23</td>\n",
              "      <td>4249</td>\n",
              "      <td>838.800000</td>\n",
              "      <td>3.0</td>\n",
              "    </tr>\n",
              "    <tr>\n",
              "      <th>6898</th>\n",
              "      <td>2014-05-31</td>\n",
              "      <td>31_4249</td>\n",
              "      <td>7</td>\n",
              "      <td>31</td>\n",
              "      <td>23</td>\n",
              "      <td>4249</td>\n",
              "      <td>839.100000</td>\n",
              "      <td>3.0</td>\n",
              "    </tr>\n",
              "    <tr>\n",
              "      <th>6975</th>\n",
              "      <td>2014-06-30</td>\n",
              "      <td>31_4249</td>\n",
              "      <td>7</td>\n",
              "      <td>31</td>\n",
              "      <td>23</td>\n",
              "      <td>4249</td>\n",
              "      <td>839.000000</td>\n",
              "      <td>3.0</td>\n",
              "    </tr>\n",
              "    <tr>\n",
              "      <th>7052</th>\n",
              "      <td>2014-07-31</td>\n",
              "      <td>31_4249</td>\n",
              "      <td>7</td>\n",
              "      <td>31</td>\n",
              "      <td>23</td>\n",
              "      <td>4249</td>\n",
              "      <td>930.561667</td>\n",
              "      <td>0.0</td>\n",
              "    </tr>\n",
              "    <tr>\n",
              "      <th>7129</th>\n",
              "      <td>2014-08-31</td>\n",
              "      <td>31_4249</td>\n",
              "      <td>7</td>\n",
              "      <td>31</td>\n",
              "      <td>23</td>\n",
              "      <td>4249</td>\n",
              "      <td>930.561667</td>\n",
              "      <td>6.0</td>\n",
              "    </tr>\n",
              "    <tr>\n",
              "      <th>7206</th>\n",
              "      <td>2014-09-30</td>\n",
              "      <td>31_4249</td>\n",
              "      <td>7</td>\n",
              "      <td>31</td>\n",
              "      <td>23</td>\n",
              "      <td>4249</td>\n",
              "      <td>801.107500</td>\n",
              "      <td>4.0</td>\n",
              "    </tr>\n",
              "    <tr>\n",
              "      <th>7283</th>\n",
              "      <td>2014-10-31</td>\n",
              "      <td>31_4249</td>\n",
              "      <td>7</td>\n",
              "      <td>31</td>\n",
              "      <td>23</td>\n",
              "      <td>4249</td>\n",
              "      <td>1199.000000</td>\n",
              "      <td>2.0</td>\n",
              "    </tr>\n",
              "    <tr>\n",
              "      <th>7360</th>\n",
              "      <td>2014-11-30</td>\n",
              "      <td>31_4249</td>\n",
              "      <td>7</td>\n",
              "      <td>31</td>\n",
              "      <td>23</td>\n",
              "      <td>4249</td>\n",
              "      <td>774.281667</td>\n",
              "      <td>10.0</td>\n",
              "    </tr>\n",
              "    <tr>\n",
              "      <th>7437</th>\n",
              "      <td>2014-12-31</td>\n",
              "      <td>31_4249</td>\n",
              "      <td>7</td>\n",
              "      <td>31</td>\n",
              "      <td>23</td>\n",
              "      <td>4249</td>\n",
              "      <td>698.840303</td>\n",
              "      <td>19.0</td>\n",
              "    </tr>\n",
              "    <tr>\n",
              "      <th>7514</th>\n",
              "      <td>2015-01-31</td>\n",
              "      <td>31_4249</td>\n",
              "      <td>7</td>\n",
              "      <td>31</td>\n",
              "      <td>23</td>\n",
              "      <td>4249</td>\n",
              "      <td>928.543333</td>\n",
              "      <td>6.0</td>\n",
              "    </tr>\n",
              "    <tr>\n",
              "      <th>7591</th>\n",
              "      <td>2015-02-28</td>\n",
              "      <td>31_4249</td>\n",
              "      <td>7</td>\n",
              "      <td>31</td>\n",
              "      <td>23</td>\n",
              "      <td>4249</td>\n",
              "      <td>851.603333</td>\n",
              "      <td>7.0</td>\n",
              "    </tr>\n",
              "    <tr>\n",
              "      <th>7668</th>\n",
              "      <td>2015-03-31</td>\n",
              "      <td>31_4249</td>\n",
              "      <td>7</td>\n",
              "      <td>31</td>\n",
              "      <td>23</td>\n",
              "      <td>4249</td>\n",
              "      <td>898.813333</td>\n",
              "      <td>3.0</td>\n",
              "    </tr>\n",
              "    <tr>\n",
              "      <th>7745</th>\n",
              "      <td>2015-04-30</td>\n",
              "      <td>31_4249</td>\n",
              "      <td>7</td>\n",
              "      <td>31</td>\n",
              "      <td>23</td>\n",
              "      <td>4249</td>\n",
              "      <td>884.300000</td>\n",
              "      <td>0.0</td>\n",
              "    </tr>\n",
              "    <tr>\n",
              "      <th>7822</th>\n",
              "      <td>2015-05-31</td>\n",
              "      <td>31_4249</td>\n",
              "      <td>7</td>\n",
              "      <td>31</td>\n",
              "      <td>23</td>\n",
              "      <td>4249</td>\n",
              "      <td>884.300000</td>\n",
              "      <td>0.0</td>\n",
              "    </tr>\n",
              "    <tr>\n",
              "      <th>7899</th>\n",
              "      <td>2015-06-30</td>\n",
              "      <td>31_4249</td>\n",
              "      <td>7</td>\n",
              "      <td>31</td>\n",
              "      <td>23</td>\n",
              "      <td>4249</td>\n",
              "      <td>884.300000</td>\n",
              "      <td>3.0</td>\n",
              "    </tr>\n",
              "    <tr>\n",
              "      <th>7976</th>\n",
              "      <td>2015-07-31</td>\n",
              "      <td>31_4249</td>\n",
              "      <td>7</td>\n",
              "      <td>31</td>\n",
              "      <td>23</td>\n",
              "      <td>4249</td>\n",
              "      <td>1135.686667</td>\n",
              "      <td>3.0</td>\n",
              "    </tr>\n",
              "    <tr>\n",
              "      <th>8053</th>\n",
              "      <td>2015-08-31</td>\n",
              "      <td>31_4249</td>\n",
              "      <td>7</td>\n",
              "      <td>31</td>\n",
              "      <td>23</td>\n",
              "      <td>4249</td>\n",
              "      <td>1347.050000</td>\n",
              "      <td>3.0</td>\n",
              "    </tr>\n",
              "    <tr>\n",
              "      <th>8130</th>\n",
              "      <td>2015-09-30</td>\n",
              "      <td>31_4249</td>\n",
              "      <td>7</td>\n",
              "      <td>31</td>\n",
              "      <td>23</td>\n",
              "      <td>4249</td>\n",
              "      <td>901.280000</td>\n",
              "      <td>4.0</td>\n",
              "    </tr>\n",
              "    <tr>\n",
              "      <th>8207</th>\n",
              "      <td>2015-10-31</td>\n",
              "      <td>31_4249</td>\n",
              "      <td>7</td>\n",
              "      <td>31</td>\n",
              "      <td>23</td>\n",
              "      <td>4249</td>\n",
              "      <td>901.280000</td>\n",
              "      <td>0.0</td>\n",
              "    </tr>\n",
              "  </tbody>\n",
              "</table>\n",
              "</div>"
            ],
            "text/plain": [
              "           date unique_id  city_id  shop_id  item_category_id  item_id  \\\n",
              "5666 2013-01-31   31_4249        7       31                23     4249   \n",
              "5743 2013-02-28   31_4249        7       31                23     4249   \n",
              "5820 2013-03-31   31_4249        7       31                23     4249   \n",
              "5897 2013-04-30   31_4249        7       31                23     4249   \n",
              "5974 2013-05-31   31_4249        7       31                23     4249   \n",
              "6051 2013-06-30   31_4249        7       31                23     4249   \n",
              "6128 2013-07-31   31_4249        7       31                23     4249   \n",
              "6205 2013-08-31   31_4249        7       31                23     4249   \n",
              "6282 2013-09-30   31_4249        7       31                23     4249   \n",
              "6359 2013-10-31   31_4249        7       31                23     4249   \n",
              "6436 2013-11-30   31_4249        7       31                23     4249   \n",
              "6513 2013-12-31   31_4249        7       31                23     4249   \n",
              "6590 2014-01-31   31_4249        7       31                23     4249   \n",
              "6667 2014-02-28   31_4249        7       31                23     4249   \n",
              "6744 2014-03-31   31_4249        7       31                23     4249   \n",
              "6821 2014-04-30   31_4249        7       31                23     4249   \n",
              "6898 2014-05-31   31_4249        7       31                23     4249   \n",
              "6975 2014-06-30   31_4249        7       31                23     4249   \n",
              "7052 2014-07-31   31_4249        7       31                23     4249   \n",
              "7129 2014-08-31   31_4249        7       31                23     4249   \n",
              "7206 2014-09-30   31_4249        7       31                23     4249   \n",
              "7283 2014-10-31   31_4249        7       31                23     4249   \n",
              "7360 2014-11-30   31_4249        7       31                23     4249   \n",
              "7437 2014-12-31   31_4249        7       31                23     4249   \n",
              "7514 2015-01-31   31_4249        7       31                23     4249   \n",
              "7591 2015-02-28   31_4249        7       31                23     4249   \n",
              "7668 2015-03-31   31_4249        7       31                23     4249   \n",
              "7745 2015-04-30   31_4249        7       31                23     4249   \n",
              "7822 2015-05-31   31_4249        7       31                23     4249   \n",
              "7899 2015-06-30   31_4249        7       31                23     4249   \n",
              "7976 2015-07-31   31_4249        7       31                23     4249   \n",
              "8053 2015-08-31   31_4249        7       31                23     4249   \n",
              "8130 2015-09-30   31_4249        7       31                23     4249   \n",
              "8207 2015-10-31   31_4249        7       31                23     4249   \n",
              "\n",
              "      monthly_average_price  monthly_sales  \n",
              "5666            1899.000000            2.0  \n",
              "5743            1599.000000            5.0  \n",
              "5820            1013.416000            6.0  \n",
              "5897            1598.900000           10.0  \n",
              "5974            1598.937500            8.0  \n",
              "6051            1599.000000            4.0  \n",
              "6128            1399.000000            4.0  \n",
              "6205            1599.000000            2.0  \n",
              "6282            1199.000000            5.0  \n",
              "6359             929.075000            4.0  \n",
              "6436            1199.000000            5.0  \n",
              "6513            1199.000000            6.0  \n",
              "6590            1199.000000           12.0  \n",
              "6667            1199.000000            7.0  \n",
              "6744             965.670000           12.0  \n",
              "6821             838.800000            3.0  \n",
              "6898             839.100000            3.0  \n",
              "6975             839.000000            3.0  \n",
              "7052             930.561667            0.0  \n",
              "7129             930.561667            6.0  \n",
              "7206             801.107500            4.0  \n",
              "7283            1199.000000            2.0  \n",
              "7360             774.281667           10.0  \n",
              "7437             698.840303           19.0  \n",
              "7514             928.543333            6.0  \n",
              "7591             851.603333            7.0  \n",
              "7668             898.813333            3.0  \n",
              "7745             884.300000            0.0  \n",
              "7822             884.300000            0.0  \n",
              "7899             884.300000            3.0  \n",
              "7976            1135.686667            3.0  \n",
              "8053            1347.050000            3.0  \n",
              "8130             901.280000            4.0  \n",
              "8207             901.280000            0.0  "
            ]
          },
          "execution_count": 19,
          "metadata": {},
          "output_type": "execute_result"
        }
      ],
      "source": [
        "df[df[\"unique_id\"] == sample_ts]"
      ]
    },
    {
      "cell_type": "markdown",
      "id": "ed947083",
      "metadata": {
        "id": "ed947083",
        "papermill": {
          "duration": 0.022323,
          "end_time": "2022-12-25T18:21:22.521653",
          "exception": false,
          "start_time": "2022-12-25T18:21:22.499330",
          "status": "completed"
        },
        "tags": []
      },
      "source": [
        "<a id='eda'></a>\n",
        "### EDA\n",
        "[Volver al índice](#index)<br>"
      ]
    },
    {
      "cell_type": "markdown",
      "id": "f758be61",
      "metadata": {
        "id": "f758be61",
        "papermill": {
          "duration": 0.022127,
          "end_time": "2022-12-25T18:21:22.566039",
          "exception": false,
          "start_time": "2022-12-25T18:21:22.543912",
          "status": "completed"
        },
        "tags": []
      },
      "source": [
        "Vamos a hacer un EDA rápido para ver como son nuestras Series Temporales y coger algunas ideas para futuras variables que vamos a implementar.\n",
        "\n",
        "Al tratarse este notebook del benchmark, vamos a explorar de manera muy superficial el dataset. En posteriores ejecuciones analizaremos el dataset en más detalle, construiremos nuevas variables y volveremos a entrenar nuestro modelo."
      ]
    },
    {
      "cell_type": "markdown",
      "id": "174a4652",
      "metadata": {
        "id": "174a4652",
        "papermill": {
          "duration": 0.021998,
          "end_time": "2022-12-25T18:21:22.610614",
          "exception": false,
          "start_time": "2022-12-25T18:21:22.588616",
          "status": "completed"
        },
        "tags": []
      },
      "source": [
        "<a id='eda_global_sales'></a>\n",
        "### --> 1. EDA: Global Sales\n",
        "[Volver al índice](#index)<br>"
      ]
    },
    {
      "cell_type": "code",
      "execution_count": 20,
      "id": "1c3e636b",
      "metadata": {
        "execution": {
          "iopub.execute_input": "2022-12-25T18:21:22.656720Z",
          "iopub.status.busy": "2022-12-25T18:21:22.656066Z",
          "iopub.status.idle": "2022-12-25T18:21:22.662079Z",
          "shell.execute_reply": "2022-12-25T18:21:22.661146Z"
        },
        "id": "1c3e636b",
        "papermill": {
          "duration": 0.032195,
          "end_time": "2022-12-25T18:21:22.664784",
          "exception": false,
          "start_time": "2022-12-25T18:21:22.632589",
          "status": "completed"
        },
        "tags": []
      },
      "outputs": [],
      "source": [
        "def plot_ts_acf_pacf(y, title):\n",
        "    '''\n",
        "    Plots the ts you pass and the acf and pacf.\n",
        "    '''\n",
        "    fig = plt.figure(figsize = (12, 10))\n",
        "    ax1, ax2, ax3 = fig.subplots(3, 1)\n",
        "\n",
        "    ax1.plot(y)\n",
        "    plot_acf(x = y, ax = ax2, lags = 14)\n",
        "    plot_pacf(x = y, ax = ax3, lags = 14)\n",
        "\n",
        "    plt.suptitle(t = title, fontsize = 20)"
      ]
    },
    {
      "cell_type": "code",
      "execution_count": 21,
      "id": "893fadf9",
      "metadata": {
        "execution": {
          "iopub.execute_input": "2022-12-25T18:21:22.712487Z",
          "iopub.status.busy": "2022-12-25T18:21:22.712069Z",
          "iopub.status.idle": "2022-12-25T18:21:22.723617Z",
          "shell.execute_reply": "2022-12-25T18:21:22.722839Z"
        },
        "id": "893fadf9",
        "papermill": {
          "duration": 0.038389,
          "end_time": "2022-12-25T18:21:22.726176",
          "exception": false,
          "start_time": "2022-12-25T18:21:22.687787",
          "status": "completed"
        },
        "tags": []
      },
      "outputs": [
        {
          "name": "stderr",
          "output_type": "stream",
          "text": [
            "C:\\Users\\dvdgo\\AppData\\Local\\Temp\\ipykernel_16528\\3920371324.py:1: FutureWarning: 'M' is deprecated and will be removed in a future version, please use 'ME' instead.\n",
            "  y = df.set_index(\"date\").resample(\"M\")[\"monthly_sales\"].sum()[:-1] # quitamos los registros de octubre\n"
          ]
        }
      ],
      "source": [
        "y = df.set_index(\"date\").resample(\"M\")[\"monthly_sales\"].sum()[:-1] # quitamos los registros de octubre"
      ]
    },
    {
      "cell_type": "code",
      "execution_count": 22,
      "id": "d92427cf",
      "metadata": {
        "colab": {
          "base_uri": "https://localhost:8080/",
          "height": 930
        },
        "execution": {
          "iopub.execute_input": "2022-12-25T18:21:22.774894Z",
          "iopub.status.busy": "2022-12-25T18:21:22.774238Z",
          "iopub.status.idle": "2022-12-25T18:21:23.383135Z",
          "shell.execute_reply": "2022-12-25T18:21:23.382008Z"
        },
        "id": "d92427cf",
        "outputId": "79df58af-39f1-4718-e3b8-b7e355bbdaa7",
        "papermill": {
          "duration": 0.635484,
          "end_time": "2022-12-25T18:21:23.385591",
          "exception": false,
          "start_time": "2022-12-25T18:21:22.750107",
          "status": "completed"
        },
        "tags": []
      },
      "outputs": [
        {
          "data": {
            "image/png": "[encoded data removed]",
            "text/plain": [
              "<Figure size 1200x1000 with 3 Axes>"
            ]
          },
          "metadata": {},
          "output_type": "display_data"
        }
      ],
      "source": [
        "plot_ts_acf_pacf(y = y, title = \"Monthly Sales for all items in all shops\");"
      ]
    },
    {
      "cell_type": "markdown",
      "id": "aca9a268",
      "metadata": {
        "id": "aca9a268",
        "papermill": {
          "duration": 0.022782,
          "end_time": "2022-12-25T18:21:23.431783",
          "exception": false,
          "start_time": "2022-12-25T18:21:23.409001",
          "status": "completed"
        },
        "tags": []
      },
      "source": [
        "Nota importante: nos estamos ayudando del gráfico de acf y pacf, pero no vamos a entrenar un modelo ARIMA.\n",
        "\n",
        "Para resolver el problema que se nos plantea: más de 400 Series Temporales diferentes tendríamos que entrenar 400 ARIMAs (1 modelo por Serie Temporal). En cambio, con el algoritmo de XGBoost podríamos entrenar 1 único modelo.\n",
        "\n",
        "Ahora bien, al contrario que ARIMA (que internamente construye las variables necesarias), para XGBoost debemos ser explícitos y suministrarle todas y cada una de las variables necesarias.\n",
        "\n",
        "Del gráfico anterior ya podemos observar que las variables de lags pueden ser muy relevantes.\n",
        "\n",
        "IDEA para los alumnos: podéis intentar analizar algunas de las 400 Series Temporales de manera individual para ver su comportamiento."
      ]
    },
    {
      "cell_type": "markdown",
      "id": "15714f34",
      "metadata": {
        "id": "15714f34",
        "papermill": {
          "duration": 0.023211,
          "end_time": "2022-12-25T18:21:23.477649",
          "exception": false,
          "start_time": "2022-12-25T18:21:23.454438",
          "status": "completed"
        },
        "tags": []
      },
      "source": [
        "<a id='eda_top_3_cities'></a>\n",
        "### --> 2. EDA: Top 3 Cities\n",
        "[Volver al índice](#index)<br>"
      ]
    },
    {
      "cell_type": "code",
      "execution_count": 23,
      "id": "6611fd72",
      "metadata": {
        "colab": {
          "base_uri": "https://localhost:8080/",
          "height": 392
        },
        "execution": {
          "iopub.execute_input": "2022-12-25T18:21:23.525896Z",
          "iopub.status.busy": "2022-12-25T18:21:23.524827Z",
          "iopub.status.idle": "2022-12-25T18:21:23.897855Z",
          "shell.execute_reply": "2022-12-25T18:21:23.896617Z"
        },
        "id": "6611fd72",
        "outputId": "5a4dbdb2-a95d-40ee-acd5-c3e310c4a2f9",
        "papermill": {
          "duration": 0.399549,
          "end_time": "2022-12-25T18:21:23.900442",
          "exception": false,
          "start_time": "2022-12-25T18:21:23.500893",
          "status": "completed"
        },
        "tags": []
      },
      "outputs": [
        {
          "data": {
            "image/png": "[encoded data removed]",
            "text/plain": [
              "<Figure size 1200x400 with 1 Axes>"
            ]
          },
          "metadata": {},
          "output_type": "display_data"
        }
      ],
      "source": [
        "(\n",
        "    df.\n",
        "    groupby([\"city_id\"])\n",
        "    [\"monthly_sales\"].sum()\n",
        "    .sort_values(ascending = False)\n",
        "    .plot(kind = \"bar\", figsize = (12, 4))\n",
        ");"
      ]
    },
    {
      "cell_type": "markdown",
      "id": "feacc799",
      "metadata": {
        "id": "feacc799",
        "papermill": {
          "duration": 0.023796,
          "end_time": "2022-12-25T18:21:23.948538",
          "exception": false,
          "start_time": "2022-12-25T18:21:23.924742",
          "status": "completed"
        },
        "tags": []
      },
      "source": [
        "<a id='eda_top_3_categories'></a>\n",
        "### --> 3. EDA: Top 3 Categories\n",
        "[Volver al índice](#index)<br>"
      ]
    },
    {
      "cell_type": "code",
      "execution_count": 24,
      "id": "e7717408",
      "metadata": {
        "colab": {
          "base_uri": "https://localhost:8080/",
          "height": 392
        },
        "execution": {
          "iopub.execute_input": "2022-12-25T18:21:23.998475Z",
          "iopub.status.busy": "2022-12-25T18:21:23.998043Z",
          "iopub.status.idle": "2022-12-25T18:21:24.451295Z",
          "shell.execute_reply": "2022-12-25T18:21:24.449986Z"
        },
        "id": "e7717408",
        "outputId": "0ea76d60-a86a-4778-b096-b52edfc5fcd3",
        "papermill": {
          "duration": 0.481244,
          "end_time": "2022-12-25T18:21:24.453930",
          "exception": false,
          "start_time": "2022-12-25T18:21:23.972686",
          "status": "completed"
        },
        "tags": []
      },
      "outputs": [
        {
          "data": {
            "image/png": "[encoded data removed]",
            "text/plain": [
              "<Figure size 1200x400 with 1 Axes>"
            ]
          },
          "metadata": {},
          "output_type": "display_data"
        }
      ],
      "source": [
        "(\n",
        "    df.\n",
        "    groupby([\"item_category_id\"])\n",
        "    [\"monthly_sales\"].sum()\n",
        "    .sort_values(ascending = False)\n",
        "    .plot(kind = \"bar\", figsize = (12, 4))\n",
        ");"
      ]
    },
    {
      "cell_type": "markdown",
      "id": "23cb5f97",
      "metadata": {
        "id": "23cb5f97",
        "papermill": {
          "duration": 0.023986,
          "end_time": "2022-12-25T18:21:24.502385",
          "exception": false,
          "start_time": "2022-12-25T18:21:24.478399",
          "status": "completed"
        },
        "tags": []
      },
      "source": [
        "<a id='build_ts_features'></a>\n",
        "### Build Time Series Features (**CORE IDEA**)\n",
        "[Volver al índice](#index)<br>"
      ]
    },
    {
      "cell_type": "markdown",
      "id": "e9caf1f0",
      "metadata": {
        "id": "e9caf1f0",
        "papermill": {
          "duration": 0.023954,
          "end_time": "2022-12-25T18:21:24.550345",
          "exception": false,
          "start_time": "2022-12-25T18:21:24.526391",
          "status": "completed"
        },
        "tags": []
      },
      "source": [
        "Dado que vamos a tener que iterar muchas veces sobre nuestro dataset, nos interesa tener todo el código encapsulado en funciones para su reutilización.\n",
        "\n",
        "Uno de los apartados clave será la generación de variables.\n",
        "\n",
        "Como hemos visto antes, nuestro dataset contiene más de 400 Series Temporales.\n",
        "\n",
        "Algunas de estas Series Temporales las podemos agrupar para sacar nueva información.\n",
        "\n",
        "Por ejemplo, podemos construir una variables del estilo:\n",
        "\n",
        "1. Las ventas totales por ITEM_ID (la menor granularidad posible).\n",
        "2. Las ventas totales por ITEM_CATEGORY_ID y SHOP_ID (una granularidad mayor a la 1).\n",
        "3. Las ventas totales por SHOP_ID (una granularidad mayor).\n",
        "4. Y todas las combinaciones que queramos intermedias."
      ]
    },
    {
      "cell_type": "code",
      "execution_count": 25,
      "id": "61454796",
      "metadata": {
        "execution": {
          "iopub.execute_input": "2022-12-25T18:21:24.671407Z",
          "iopub.status.busy": "2022-12-25T18:21:24.670332Z",
          "iopub.status.idle": "2022-12-25T18:21:24.678730Z",
          "shell.execute_reply": "2022-12-25T18:21:24.677485Z"
        },
        "id": "61454796",
        "papermill": {
          "duration": 0.036788,
          "end_time": "2022-12-25T18:21:24.681073",
          "exception": false,
          "start_time": "2022-12-25T18:21:24.644285",
          "status": "completed"
        },
        "tags": []
      },
      "outputs": [],
      "source": [
        "def build_ts_vars(df, gb_list, target_column, agg_func, agg_func_name):\n",
        "\n",
        "    assert \"date\" in df.columns.tolist(), \"Date must be in df columns\"\n",
        "\n",
        "    new_name = \"_\".join(gb_list + [target_column] + [agg_func_name])\n",
        "\n",
        "    gb_df_ = (\n",
        "        df\n",
        "        .set_index(\"date\")\n",
        "        .groupby(gb_list)\n",
        "        .resample(\"M\")[target_column]\n",
        "        .apply(agg_func)\n",
        "        .to_frame()\n",
        "        .reset_index()\n",
        "        .rename(\n",
        "            columns = {\n",
        "                target_column : new_name\n",
        "            }\n",
        "        )\n",
        "    )\n",
        "\n",
        "    gb_df_[f\"{new_name}_lag1\"] = gb_df_.groupby(gb_list)[new_name].transform(\n",
        "        lambda series: series.shift(1)\n",
        "    )\n",
        "    gb_df_[f\"{new_name}_lag2\"] = gb_df_.groupby(gb_list)[new_name].transform(\n",
        "        lambda series: series.shift(2)\n",
        "    )\n",
        "    print(f\"Dropping columns that might cause target leakage {new_name}\")\n",
        "    gb_df_.drop(new_name, inplace = True, axis = 1)\n",
        "\n",
        "    return gb_df_"
      ]
    },
    {
      "cell_type": "code",
      "execution_count": 26,
      "id": "28b7eb06",
      "metadata": {
        "colab": {
          "base_uri": "https://localhost:8080/",
          "height": 380
        },
        "execution": {
          "iopub.execute_input": "2022-12-25T18:21:24.733079Z",
          "iopub.status.busy": "2022-12-25T18:21:24.731651Z",
          "iopub.status.idle": "2022-12-25T18:21:24.908347Z",
          "shell.execute_reply": "2022-12-25T18:21:24.907233Z"
        },
        "id": "28b7eb06",
        "outputId": "6def7492-b0b0-456d-c2a4-ad48f526de40",
        "papermill": {
          "duration": 0.205108,
          "end_time": "2022-12-25T18:21:24.910893",
          "exception": false,
          "start_time": "2022-12-25T18:21:24.705785",
          "status": "completed"
        },
        "tags": []
      },
      "outputs": [
        {
          "name": "stdout",
          "output_type": "stream",
          "text": [
            "Dropping columns that might cause target leakage item_category_id_monthly_sales_sum\n"
          ]
        },
        {
          "name": "stderr",
          "output_type": "stream",
          "text": [
            "C:\\Users\\dvdgo\\AppData\\Local\\Temp\\ipykernel_16528\\293504091.py:11: FutureWarning: 'M' is deprecated and will be removed in a future version, please use 'ME' instead.\n",
            "  .resample(\"M\")[target_column]\n",
            "C:\\Users\\dvdgo\\AppData\\Local\\Temp\\ipykernel_16528\\293504091.py:12: FutureWarning: The provided callable <function sum at 0x0000019F36C23C40> is currently using DatetimeIndexResamplerGroupby.sum. In a future version of pandas, the provided callable will be used directly. To keep current behavior pass the string \"sum\" instead.\n",
            "  .apply(agg_func)\n"
          ]
        },
        {
          "data": {
            "text/html": [
              "<div>\n",
              "<style scoped>\n",
              "    .dataframe tbody tr th:only-of-type {\n",
              "        vertical-align: middle;\n",
              "    }\n",
              "\n",
              "    .dataframe tbody tr th {\n",
              "        vertical-align: top;\n",
              "    }\n",
              "\n",
              "    .dataframe thead th {\n",
              "        text-align: right;\n",
              "    }\n",
              "</style>\n",
              "<table border=\"1\" class=\"dataframe\">\n",
              "  <thead>\n",
              "    <tr style=\"text-align: right;\">\n",
              "      <th></th>\n",
              "      <th>item_category_id</th>\n",
              "      <th>date</th>\n",
              "      <th>item_category_id_monthly_sales_sum_lag1</th>\n",
              "      <th>item_category_id_monthly_sales_sum_lag2</th>\n",
              "    </tr>\n",
              "  </thead>\n",
              "  <tbody>\n",
              "    <tr>\n",
              "      <th>0</th>\n",
              "      <td>2</td>\n",
              "      <td>2013-01-31</td>\n",
              "      <td>NaN</td>\n",
              "      <td>NaN</td>\n",
              "    </tr>\n",
              "    <tr>\n",
              "      <th>1</th>\n",
              "      <td>2</td>\n",
              "      <td>2013-02-28</td>\n",
              "      <td>46.0</td>\n",
              "      <td>NaN</td>\n",
              "    </tr>\n",
              "    <tr>\n",
              "      <th>2</th>\n",
              "      <td>2</td>\n",
              "      <td>2013-03-31</td>\n",
              "      <td>40.0</td>\n",
              "      <td>46.0</td>\n",
              "    </tr>\n",
              "    <tr>\n",
              "      <th>3</th>\n",
              "      <td>2</td>\n",
              "      <td>2013-04-30</td>\n",
              "      <td>22.0</td>\n",
              "      <td>40.0</td>\n",
              "    </tr>\n",
              "    <tr>\n",
              "      <th>4</th>\n",
              "      <td>2</td>\n",
              "      <td>2013-05-31</td>\n",
              "      <td>21.0</td>\n",
              "      <td>22.0</td>\n",
              "    </tr>\n",
              "    <tr>\n",
              "      <th>5</th>\n",
              "      <td>2</td>\n",
              "      <td>2013-06-30</td>\n",
              "      <td>34.0</td>\n",
              "      <td>21.0</td>\n",
              "    </tr>\n",
              "    <tr>\n",
              "      <th>6</th>\n",
              "      <td>2</td>\n",
              "      <td>2013-07-31</td>\n",
              "      <td>34.0</td>\n",
              "      <td>34.0</td>\n",
              "    </tr>\n",
              "    <tr>\n",
              "      <th>7</th>\n",
              "      <td>2</td>\n",
              "      <td>2013-08-31</td>\n",
              "      <td>34.0</td>\n",
              "      <td>34.0</td>\n",
              "    </tr>\n",
              "    <tr>\n",
              "      <th>8</th>\n",
              "      <td>2</td>\n",
              "      <td>2013-09-30</td>\n",
              "      <td>11.0</td>\n",
              "      <td>34.0</td>\n",
              "    </tr>\n",
              "    <tr>\n",
              "      <th>9</th>\n",
              "      <td>2</td>\n",
              "      <td>2013-10-31</td>\n",
              "      <td>18.0</td>\n",
              "      <td>11.0</td>\n",
              "    </tr>\n",
              "  </tbody>\n",
              "</table>\n",
              "</div>"
            ],
            "text/plain": [
              "   item_category_id       date  item_category_id_monthly_sales_sum_lag1  \\\n",
              "0                 2 2013-01-31                                      NaN   \n",
              "1                 2 2013-02-28                                     46.0   \n",
              "2                 2 2013-03-31                                     40.0   \n",
              "3                 2 2013-04-30                                     22.0   \n",
              "4                 2 2013-05-31                                     21.0   \n",
              "5                 2 2013-06-30                                     34.0   \n",
              "6                 2 2013-07-31                                     34.0   \n",
              "7                 2 2013-08-31                                     34.0   \n",
              "8                 2 2013-09-30                                     11.0   \n",
              "9                 2 2013-10-31                                     18.0   \n",
              "\n",
              "   item_category_id_monthly_sales_sum_lag2  \n",
              "0                                      NaN  \n",
              "1                                      NaN  \n",
              "2                                     46.0  \n",
              "3                                     40.0  \n",
              "4                                     22.0  \n",
              "5                                     21.0  \n",
              "6                                     34.0  \n",
              "7                                     34.0  \n",
              "8                                     34.0  \n",
              "9                                     11.0  "
            ]
          },
          "execution_count": 26,
          "metadata": {},
          "output_type": "execute_result"
        }
      ],
      "source": [
        "GB_LIST = [\"item_category_id\"]\n",
        "TARGET_COLUMN = \"monthly_sales\"\n",
        "AGG_FUNC = np.sum\n",
        "AGG_FUNC_NAME = \"sum\"\n",
        "\n",
        "vars_ts_ = build_ts_vars(\n",
        "    df = df,\n",
        "    gb_list = GB_LIST,\n",
        "    target_column = TARGET_COLUMN,\n",
        "    agg_func = AGG_FUNC,\n",
        "    agg_func_name =  AGG_FUNC_NAME\n",
        "\n",
        ")\n",
        "\n",
        "vars_ts_.head(10)"
      ]
    },
    {
      "cell_type": "markdown",
      "id": "81ec5de5",
      "metadata": {
        "id": "81ec5de5",
        "papermill": {
          "duration": 0.029372,
          "end_time": "2022-12-25T18:21:24.965434",
          "exception": false,
          "start_time": "2022-12-25T18:21:24.936062",
          "status": "completed"
        },
        "tags": []
      },
      "source": [
        "<a id='join_ts_features'></a>\n",
        "### Join TS Features\n",
        "[Volver al índice](#index)<br>"
      ]
    },
    {
      "cell_type": "markdown",
      "id": "165af29c",
      "metadata": {
        "id": "165af29c",
        "papermill": {
          "duration": 0.02443,
          "end_time": "2022-12-25T18:21:25.014558",
          "exception": false,
          "start_time": "2022-12-25T18:21:24.990128",
          "status": "completed"
        },
        "tags": []
      },
      "source": [
        "En este apartado, hacemos el merge del full_df con las variables auxiliares.\n",
        "\n",
        "Debemos controlar muy bien el merge, para no provocar un cartesiano."
      ]
    },
    {
      "cell_type": "code",
      "execution_count": 27,
      "id": "39402209",
      "metadata": {
        "colab": {
          "base_uri": "https://localhost:8080/"
        },
        "execution": {
          "iopub.execute_input": "2022-12-25T18:21:25.065855Z",
          "iopub.status.busy": "2022-12-25T18:21:25.065444Z",
          "iopub.status.idle": "2022-12-25T18:21:25.085154Z",
          "shell.execute_reply": "2022-12-25T18:21:25.083693Z"
        },
        "id": "39402209",
        "outputId": "b213f535-fbbc-42be-dc24-1fb1f1095720",
        "papermill": {
          "duration": 0.048568,
          "end_time": "2022-12-25T18:21:25.087892",
          "exception": false,
          "start_time": "2022-12-25T18:21:25.039324",
          "status": "completed"
        },
        "tags": []
      },
      "outputs": [
        {
          "name": "stdout",
          "output_type": "stream",
          "text": [
            "(14484, 8)\n",
            "(14484, 10)\n"
          ]
        }
      ],
      "source": [
        "print(df.shape)\n",
        "\n",
        "df = pd.merge(df, vars_ts_, on = [\"date\"] + GB_LIST, how = \"left\")\n",
        "\n",
        "print(df.shape)"
      ]
    },
    {
      "cell_type": "code",
      "execution_count": 28,
      "id": "1805cc38",
      "metadata": {},
      "outputs": [
        {
          "name": "stderr",
          "output_type": "stream",
          "text": [
            "C:\\Users\\dvdgo\\AppData\\Local\\Temp\\ipykernel_16528\\293504091.py:11: FutureWarning: 'M' is deprecated and will be removed in a future version, please use 'ME' instead.\n",
            "  .resample(\"M\")[target_column]\n",
            "C:\\Users\\dvdgo\\AppData\\Local\\Temp\\ipykernel_16528\\293504091.py:12: FutureWarning: The provided callable <function sum at 0x0000019F36C23C40> is currently using DatetimeIndexResamplerGroupby.sum. In a future version of pandas, the provided callable will be used directly. To keep current behavior pass the string \"sum\" instead.\n",
            "  .apply(agg_func)\n"
          ]
        },
        {
          "name": "stdout",
          "output_type": "stream",
          "text": [
            "Dropping columns that might cause target leakage item_id_monthly_sales_sum\n"
          ]
        },
        {
          "data": {
            "text/html": [
              "<div>\n",
              "<style scoped>\n",
              "    .dataframe tbody tr th:only-of-type {\n",
              "        vertical-align: middle;\n",
              "    }\n",
              "\n",
              "    .dataframe tbody tr th {\n",
              "        vertical-align: top;\n",
              "    }\n",
              "\n",
              "    .dataframe thead th {\n",
              "        text-align: right;\n",
              "    }\n",
              "</style>\n",
              "<table border=\"1\" class=\"dataframe\">\n",
              "  <thead>\n",
              "    <tr style=\"text-align: right;\">\n",
              "      <th></th>\n",
              "      <th>item_id</th>\n",
              "      <th>date</th>\n",
              "      <th>item_id_monthly_sales_sum_lag1</th>\n",
              "      <th>item_id_monthly_sales_sum_lag2</th>\n",
              "    </tr>\n",
              "  </thead>\n",
              "  <tbody>\n",
              "    <tr>\n",
              "      <th>0</th>\n",
              "      <td>32</td>\n",
              "      <td>2013-01-31</td>\n",
              "      <td>NaN</td>\n",
              "      <td>NaN</td>\n",
              "    </tr>\n",
              "    <tr>\n",
              "      <th>1</th>\n",
              "      <td>32</td>\n",
              "      <td>2013-02-28</td>\n",
              "      <td>24.0</td>\n",
              "      <td>NaN</td>\n",
              "    </tr>\n",
              "    <tr>\n",
              "      <th>2</th>\n",
              "      <td>32</td>\n",
              "      <td>2013-03-31</td>\n",
              "      <td>20.0</td>\n",
              "      <td>24.0</td>\n",
              "    </tr>\n",
              "    <tr>\n",
              "      <th>3</th>\n",
              "      <td>32</td>\n",
              "      <td>2013-04-30</td>\n",
              "      <td>13.0</td>\n",
              "      <td>20.0</td>\n",
              "    </tr>\n",
              "    <tr>\n",
              "      <th>4</th>\n",
              "      <td>32</td>\n",
              "      <td>2013-05-31</td>\n",
              "      <td>11.0</td>\n",
              "      <td>13.0</td>\n",
              "    </tr>\n",
              "    <tr>\n",
              "      <th>5</th>\n",
              "      <td>32</td>\n",
              "      <td>2013-06-30</td>\n",
              "      <td>6.0</td>\n",
              "      <td>11.0</td>\n",
              "    </tr>\n",
              "    <tr>\n",
              "      <th>6</th>\n",
              "      <td>32</td>\n",
              "      <td>2013-07-31</td>\n",
              "      <td>11.0</td>\n",
              "      <td>6.0</td>\n",
              "    </tr>\n",
              "    <tr>\n",
              "      <th>7</th>\n",
              "      <td>32</td>\n",
              "      <td>2013-08-31</td>\n",
              "      <td>10.0</td>\n",
              "      <td>11.0</td>\n",
              "    </tr>\n",
              "    <tr>\n",
              "      <th>8</th>\n",
              "      <td>32</td>\n",
              "      <td>2013-09-30</td>\n",
              "      <td>9.0</td>\n",
              "      <td>10.0</td>\n",
              "    </tr>\n",
              "    <tr>\n",
              "      <th>9</th>\n",
              "      <td>32</td>\n",
              "      <td>2013-10-31</td>\n",
              "      <td>2.0</td>\n",
              "      <td>9.0</td>\n",
              "    </tr>\n",
              "  </tbody>\n",
              "</table>\n",
              "</div>"
            ],
            "text/plain": [
              "   item_id       date  item_id_monthly_sales_sum_lag1  \\\n",
              "0       32 2013-01-31                             NaN   \n",
              "1       32 2013-02-28                            24.0   \n",
              "2       32 2013-03-31                            20.0   \n",
              "3       32 2013-04-30                            13.0   \n",
              "4       32 2013-05-31                            11.0   \n",
              "5       32 2013-06-30                             6.0   \n",
              "6       32 2013-07-31                            11.0   \n",
              "7       32 2013-08-31                            10.0   \n",
              "8       32 2013-09-30                             9.0   \n",
              "9       32 2013-10-31                             2.0   \n",
              "\n",
              "   item_id_monthly_sales_sum_lag2  \n",
              "0                             NaN  \n",
              "1                             NaN  \n",
              "2                            24.0  \n",
              "3                            20.0  \n",
              "4                            13.0  \n",
              "5                            11.0  \n",
              "6                             6.0  \n",
              "7                            11.0  \n",
              "8                            10.0  \n",
              "9                             9.0  "
            ]
          },
          "execution_count": 28,
          "metadata": {},
          "output_type": "execute_result"
        }
      ],
      "source": [
        "GB_LIST = [\"item_id\"]\n",
        "TARGET_COLUMN = \"monthly_sales\"\n",
        "AGG_FUNC = np.sum\n",
        "AGG_FUNC_NAME = \"sum\"\n",
        "\n",
        "vars_ts_2 = build_ts_vars(\n",
        "    df = df,\n",
        "    gb_list = GB_LIST,\n",
        "    target_column = TARGET_COLUMN,\n",
        "    agg_func = AGG_FUNC,\n",
        "    agg_func_name =  AGG_FUNC_NAME\n",
        "\n",
        ")\n",
        "\n",
        "vars_ts_2.head(10)"
      ]
    },
    {
      "cell_type": "code",
      "execution_count": 29,
      "id": "6c5d91c0",
      "metadata": {},
      "outputs": [
        {
          "name": "stdout",
          "output_type": "stream",
          "text": [
            "(14484, 10)\n",
            "(14484, 12)\n"
          ]
        }
      ],
      "source": [
        "print(df.shape)\n",
        "\n",
        "df = pd.merge(df, vars_ts_2, on = [\"date\"] + GB_LIST, how = \"left\")\n",
        "\n",
        "print(df.shape)"
      ]
    },
    {
      "cell_type": "code",
      "execution_count": 30,
      "id": "a005d1b3",
      "metadata": {},
      "outputs": [
        {
          "name": "stdout",
          "output_type": "stream",
          "text": [
            "Dropping columns that might cause target leakage city_id_monthly_sales_sum\n"
          ]
        },
        {
          "name": "stderr",
          "output_type": "stream",
          "text": [
            "C:\\Users\\dvdgo\\AppData\\Local\\Temp\\ipykernel_16528\\293504091.py:11: FutureWarning: 'M' is deprecated and will be removed in a future version, please use 'ME' instead.\n",
            "  .resample(\"M\")[target_column]\n",
            "C:\\Users\\dvdgo\\AppData\\Local\\Temp\\ipykernel_16528\\293504091.py:12: FutureWarning: The provided callable <function sum at 0x0000019F36C23C40> is currently using DatetimeIndexResamplerGroupby.sum. In a future version of pandas, the provided callable will be used directly. To keep current behavior pass the string \"sum\" instead.\n",
            "  .apply(agg_func)\n"
          ]
        },
        {
          "data": {
            "text/html": [
              "<div>\n",
              "<style scoped>\n",
              "    .dataframe tbody tr th:only-of-type {\n",
              "        vertical-align: middle;\n",
              "    }\n",
              "\n",
              "    .dataframe tbody tr th {\n",
              "        vertical-align: top;\n",
              "    }\n",
              "\n",
              "    .dataframe thead th {\n",
              "        text-align: right;\n",
              "    }\n",
              "</style>\n",
              "<table border=\"1\" class=\"dataframe\">\n",
              "  <thead>\n",
              "    <tr style=\"text-align: right;\">\n",
              "      <th></th>\n",
              "      <th>city_id</th>\n",
              "      <th>date</th>\n",
              "      <th>city_id_monthly_sales_sum_lag1</th>\n",
              "      <th>city_id_monthly_sales_sum_lag2</th>\n",
              "    </tr>\n",
              "  </thead>\n",
              "  <tbody>\n",
              "    <tr>\n",
              "      <th>0</th>\n",
              "      <td>0</td>\n",
              "      <td>2013-01-31</td>\n",
              "      <td>NaN</td>\n",
              "      <td>NaN</td>\n",
              "    </tr>\n",
              "    <tr>\n",
              "      <th>1</th>\n",
              "      <td>0</td>\n",
              "      <td>2013-02-28</td>\n",
              "      <td>2.0</td>\n",
              "      <td>NaN</td>\n",
              "    </tr>\n",
              "    <tr>\n",
              "      <th>2</th>\n",
              "      <td>0</td>\n",
              "      <td>2013-03-31</td>\n",
              "      <td>1.0</td>\n",
              "      <td>2.0</td>\n",
              "    </tr>\n",
              "    <tr>\n",
              "      <th>3</th>\n",
              "      <td>0</td>\n",
              "      <td>2013-04-30</td>\n",
              "      <td>1.0</td>\n",
              "      <td>1.0</td>\n",
              "    </tr>\n",
              "    <tr>\n",
              "      <th>4</th>\n",
              "      <td>0</td>\n",
              "      <td>2013-05-31</td>\n",
              "      <td>1.0</td>\n",
              "      <td>1.0</td>\n",
              "    </tr>\n",
              "    <tr>\n",
              "      <th>5</th>\n",
              "      <td>0</td>\n",
              "      <td>2013-06-30</td>\n",
              "      <td>3.0</td>\n",
              "      <td>1.0</td>\n",
              "    </tr>\n",
              "    <tr>\n",
              "      <th>6</th>\n",
              "      <td>0</td>\n",
              "      <td>2013-07-31</td>\n",
              "      <td>4.0</td>\n",
              "      <td>3.0</td>\n",
              "    </tr>\n",
              "    <tr>\n",
              "      <th>7</th>\n",
              "      <td>0</td>\n",
              "      <td>2013-08-31</td>\n",
              "      <td>4.0</td>\n",
              "      <td>4.0</td>\n",
              "    </tr>\n",
              "    <tr>\n",
              "      <th>8</th>\n",
              "      <td>0</td>\n",
              "      <td>2013-09-30</td>\n",
              "      <td>7.0</td>\n",
              "      <td>4.0</td>\n",
              "    </tr>\n",
              "    <tr>\n",
              "      <th>9</th>\n",
              "      <td>0</td>\n",
              "      <td>2013-10-31</td>\n",
              "      <td>7.0</td>\n",
              "      <td>7.0</td>\n",
              "    </tr>\n",
              "  </tbody>\n",
              "</table>\n",
              "</div>"
            ],
            "text/plain": [
              "   city_id       date  city_id_monthly_sales_sum_lag1  \\\n",
              "0        0 2013-01-31                             NaN   \n",
              "1        0 2013-02-28                             2.0   \n",
              "2        0 2013-03-31                             1.0   \n",
              "3        0 2013-04-30                             1.0   \n",
              "4        0 2013-05-31                             1.0   \n",
              "5        0 2013-06-30                             3.0   \n",
              "6        0 2013-07-31                             4.0   \n",
              "7        0 2013-08-31                             4.0   \n",
              "8        0 2013-09-30                             7.0   \n",
              "9        0 2013-10-31                             7.0   \n",
              "\n",
              "   city_id_monthly_sales_sum_lag2  \n",
              "0                             NaN  \n",
              "1                             NaN  \n",
              "2                             2.0  \n",
              "3                             1.0  \n",
              "4                             1.0  \n",
              "5                             1.0  \n",
              "6                             3.0  \n",
              "7                             4.0  \n",
              "8                             4.0  \n",
              "9                             7.0  "
            ]
          },
          "execution_count": 30,
          "metadata": {},
          "output_type": "execute_result"
        }
      ],
      "source": [
        "GB_LIST = [\"city_id\"]\n",
        "TARGET_COLUMN = \"monthly_sales\"\n",
        "AGG_FUNC = np.sum\n",
        "AGG_FUNC_NAME = \"sum\"\n",
        "\n",
        "vars_ts_3 = build_ts_vars(\n",
        "    df = df,\n",
        "    gb_list = GB_LIST,\n",
        "    target_column = TARGET_COLUMN,\n",
        "    agg_func = AGG_FUNC,\n",
        "    agg_func_name =  AGG_FUNC_NAME\n",
        "\n",
        ")\n",
        "\n",
        "vars_ts_3.head(10)"
      ]
    },
    {
      "cell_type": "code",
      "execution_count": 31,
      "id": "355b8e9e",
      "metadata": {},
      "outputs": [
        {
          "name": "stdout",
          "output_type": "stream",
          "text": [
            "(14484, 12)\n",
            "(14484, 14)\n"
          ]
        }
      ],
      "source": [
        "print(df.shape)\n",
        "\n",
        "df = pd.merge(df, vars_ts_3, on = [\"date\"] + GB_LIST, how = \"left\")\n",
        "\n",
        "print(df.shape)"
      ]
    },
    {
      "cell_type": "markdown",
      "id": "bf2c6038",
      "metadata": {
        "id": "bf2c6038",
        "papermill": {
          "duration": 0.024236,
          "end_time": "2022-12-25T18:21:25.200977",
          "exception": false,
          "start_time": "2022-12-25T18:21:25.176741",
          "status": "completed"
        },
        "tags": []
      },
      "source": [
        "<a id='train_test_split'></a>\n",
        "### Train Test Split\n",
        "[Volver al índice](#index)<br>"
      ]
    },
    {
      "cell_type": "code",
      "execution_count": 32,
      "id": "d78761ec",
      "metadata": {
        "colab": {
          "base_uri": "https://localhost:8080/"
        },
        "id": "d78761ec",
        "outputId": "08932e1a-c68f-41a9-8fca-f595c7a1f30f"
      },
      "outputs": [
        {
          "data": {
            "text/plain": [
              "['date',\n",
              " 'unique_id',\n",
              " 'city_id',\n",
              " 'shop_id',\n",
              " 'item_category_id',\n",
              " 'item_id',\n",
              " 'monthly_average_price',\n",
              " 'monthly_sales',\n",
              " 'item_category_id_monthly_sales_sum_lag1',\n",
              " 'item_category_id_monthly_sales_sum_lag2',\n",
              " 'item_id_monthly_sales_sum_lag1',\n",
              " 'item_id_monthly_sales_sum_lag2',\n",
              " 'city_id_monthly_sales_sum_lag1',\n",
              " 'city_id_monthly_sales_sum_lag2']"
            ]
          },
          "execution_count": 32,
          "metadata": {},
          "output_type": "execute_result"
        }
      ],
      "source": [
        "df.columns.tolist()"
      ]
    },
    {
      "cell_type": "code",
      "execution_count": 33,
      "id": "30d6f467",
      "metadata": {
        "execution": {
          "iopub.execute_input": "2022-12-25T18:21:25.317608Z",
          "iopub.status.busy": "2022-12-25T18:21:25.316940Z",
          "iopub.status.idle": "2022-12-25T18:21:25.325200Z",
          "shell.execute_reply": "2022-12-25T18:21:25.324212Z"
        },
        "id": "30d6f467",
        "papermill": {
          "duration": 0.036896,
          "end_time": "2022-12-25T18:21:25.327627",
          "exception": false,
          "start_time": "2022-12-25T18:21:25.290731",
          "status": "completed"
        },
        "tags": []
      },
      "outputs": [],
      "source": [
        "COLUMNS_TO_DROP = [\n",
        "]\n",
        "\n",
        "df.drop(COLUMNS_TO_DROP, inplace = True, axis = 1)"
      ]
    },
    {
      "cell_type": "code",
      "execution_count": 34,
      "id": "fa177860",
      "metadata": {
        "execution": {
          "iopub.execute_input": "2022-12-25T18:21:25.381448Z",
          "iopub.status.busy": "2022-12-25T18:21:25.381045Z",
          "iopub.status.idle": "2022-12-25T18:21:25.386859Z",
          "shell.execute_reply": "2022-12-25T18:21:25.385987Z"
        },
        "id": "fa177860",
        "papermill": {
          "duration": 0.035085,
          "end_time": "2022-12-25T18:21:25.389015",
          "exception": false,
          "start_time": "2022-12-25T18:21:25.353930",
          "status": "completed"
        },
        "tags": []
      },
      "outputs": [],
      "source": [
        "df.set_index(\"unique_id\", inplace = True)"
      ]
    },
    {
      "cell_type": "code",
      "execution_count": 35,
      "id": "aabdefba",
      "metadata": {
        "colab": {
          "base_uri": "https://localhost:8080/",
          "height": 237
        },
        "execution": {
          "iopub.execute_input": "2022-12-25T18:21:25.441035Z",
          "iopub.status.busy": "2022-12-25T18:21:25.440313Z",
          "iopub.status.idle": "2022-12-25T18:21:25.456138Z",
          "shell.execute_reply": "2022-12-25T18:21:25.455270Z"
        },
        "id": "aabdefba",
        "outputId": "78ba0f79-ce2d-4627-fb47-74a50fcfa7e1",
        "papermill": {
          "duration": 0.044121,
          "end_time": "2022-12-25T18:21:25.458207",
          "exception": false,
          "start_time": "2022-12-25T18:21:25.414086",
          "status": "completed"
        },
        "tags": []
      },
      "outputs": [
        {
          "data": {
            "text/html": [
              "<div>\n",
              "<style scoped>\n",
              "    .dataframe tbody tr th:only-of-type {\n",
              "        vertical-align: middle;\n",
              "    }\n",
              "\n",
              "    .dataframe tbody tr th {\n",
              "        vertical-align: top;\n",
              "    }\n",
              "\n",
              "    .dataframe thead th {\n",
              "        text-align: right;\n",
              "    }\n",
              "</style>\n",
              "<table border=\"1\" class=\"dataframe\">\n",
              "  <thead>\n",
              "    <tr style=\"text-align: right;\">\n",
              "      <th></th>\n",
              "      <th>date</th>\n",
              "      <th>city_id</th>\n",
              "      <th>shop_id</th>\n",
              "      <th>item_category_id</th>\n",
              "      <th>item_id</th>\n",
              "      <th>monthly_average_price</th>\n",
              "      <th>monthly_sales</th>\n",
              "      <th>item_category_id_monthly_sales_sum_lag1</th>\n",
              "      <th>item_category_id_monthly_sales_sum_lag2</th>\n",
              "      <th>item_id_monthly_sales_sum_lag1</th>\n",
              "      <th>item_id_monthly_sales_sum_lag2</th>\n",
              "      <th>city_id_monthly_sales_sum_lag1</th>\n",
              "      <th>city_id_monthly_sales_sum_lag2</th>\n",
              "    </tr>\n",
              "    <tr>\n",
              "      <th>unique_id</th>\n",
              "      <th></th>\n",
              "      <th></th>\n",
              "      <th></th>\n",
              "      <th></th>\n",
              "      <th></th>\n",
              "      <th></th>\n",
              "      <th></th>\n",
              "      <th></th>\n",
              "      <th></th>\n",
              "      <th></th>\n",
              "      <th></th>\n",
              "      <th></th>\n",
              "      <th></th>\n",
              "    </tr>\n",
              "  </thead>\n",
              "  <tbody>\n",
              "    <tr>\n",
              "      <th>31_11938</th>\n",
              "      <td>2013-06-30</td>\n",
              "      <td>7</td>\n",
              "      <td>31</td>\n",
              "      <td>40</td>\n",
              "      <td>11938</td>\n",
              "      <td>149.0</td>\n",
              "      <td>6.0</td>\n",
              "      <td>215.0</td>\n",
              "      <td>151.0</td>\n",
              "      <td>2.0</td>\n",
              "      <td>1.0</td>\n",
              "      <td>1247.0</td>\n",
              "      <td>1303.0</td>\n",
              "    </tr>\n",
              "    <tr>\n",
              "      <th>15_20949</th>\n",
              "      <td>2015-07-31</td>\n",
              "      <td>2</td>\n",
              "      <td>15</td>\n",
              "      <td>71</td>\n",
              "      <td>20949</td>\n",
              "      <td>5.0</td>\n",
              "      <td>30.0</td>\n",
              "      <td>625.0</td>\n",
              "      <td>633.0</td>\n",
              "      <td>625.0</td>\n",
              "      <td>633.0</td>\n",
              "      <td>61.0</td>\n",
              "      <td>51.0</td>\n",
              "    </tr>\n",
              "    <tr>\n",
              "      <th>31_12551</th>\n",
              "      <td>2015-09-30</td>\n",
              "      <td>7</td>\n",
              "      <td>31</td>\n",
              "      <td>55</td>\n",
              "      <td>12551</td>\n",
              "      <td>199.0</td>\n",
              "      <td>2.0</td>\n",
              "      <td>61.0</td>\n",
              "      <td>57.0</td>\n",
              "      <td>1.0</td>\n",
              "      <td>1.0</td>\n",
              "      <td>983.0</td>\n",
              "      <td>856.0</td>\n",
              "    </tr>\n",
              "    <tr>\n",
              "      <th>28_4244</th>\n",
              "      <td>2015-08-31</td>\n",
              "      <td>7</td>\n",
              "      <td>28</td>\n",
              "      <td>23</td>\n",
              "      <td>4244</td>\n",
              "      <td>1299.0</td>\n",
              "      <td>2.0</td>\n",
              "      <td>59.0</td>\n",
              "      <td>55.0</td>\n",
              "      <td>23.0</td>\n",
              "      <td>16.0</td>\n",
              "      <td>856.0</td>\n",
              "      <td>888.0</td>\n",
              "    </tr>\n",
              "    <tr>\n",
              "      <th>15_2252</th>\n",
              "      <td>2014-04-30</td>\n",
              "      <td>2</td>\n",
              "      <td>15</td>\n",
              "      <td>30</td>\n",
              "      <td>2252</td>\n",
              "      <td>599.0</td>\n",
              "      <td>4.0</td>\n",
              "      <td>419.0</td>\n",
              "      <td>556.0</td>\n",
              "      <td>43.0</td>\n",
              "      <td>29.0</td>\n",
              "      <td>77.0</td>\n",
              "      <td>88.0</td>\n",
              "    </tr>\n",
              "  </tbody>\n",
              "</table>\n",
              "</div>"
            ],
            "text/plain": [
              "                date  city_id  shop_id  item_category_id  item_id  \\\n",
              "unique_id                                                           \n",
              "31_11938  2013-06-30        7       31                40    11938   \n",
              "15_20949  2015-07-31        2       15                71    20949   \n",
              "31_12551  2015-09-30        7       31                55    12551   \n",
              "28_4244   2015-08-31        7       28                23     4244   \n",
              "15_2252   2014-04-30        2       15                30     2252   \n",
              "\n",
              "           monthly_average_price  monthly_sales  \\\n",
              "unique_id                                         \n",
              "31_11938                   149.0            6.0   \n",
              "15_20949                     5.0           30.0   \n",
              "31_12551                   199.0            2.0   \n",
              "28_4244                   1299.0            2.0   \n",
              "15_2252                    599.0            4.0   \n",
              "\n",
              "           item_category_id_monthly_sales_sum_lag1  \\\n",
              "unique_id                                            \n",
              "31_11938                                     215.0   \n",
              "15_20949                                     625.0   \n",
              "31_12551                                      61.0   \n",
              "28_4244                                       59.0   \n",
              "15_2252                                      419.0   \n",
              "\n",
              "           item_category_id_monthly_sales_sum_lag2  \\\n",
              "unique_id                                            \n",
              "31_11938                                     151.0   \n",
              "15_20949                                     633.0   \n",
              "31_12551                                      57.0   \n",
              "28_4244                                       55.0   \n",
              "15_2252                                      556.0   \n",
              "\n",
              "           item_id_monthly_sales_sum_lag1  item_id_monthly_sales_sum_lag2  \\\n",
              "unique_id                                                                   \n",
              "31_11938                              2.0                             1.0   \n",
              "15_20949                            625.0                           633.0   \n",
              "31_12551                              1.0                             1.0   \n",
              "28_4244                              23.0                            16.0   \n",
              "15_2252                              43.0                            29.0   \n",
              "\n",
              "           city_id_monthly_sales_sum_lag1  city_id_monthly_sales_sum_lag2  \n",
              "unique_id                                                                  \n",
              "31_11938                           1247.0                          1303.0  \n",
              "15_20949                             61.0                            51.0  \n",
              "31_12551                            983.0                           856.0  \n",
              "28_4244                             856.0                           888.0  \n",
              "15_2252                              77.0                            88.0  "
            ]
          },
          "execution_count": 35,
          "metadata": {},
          "output_type": "execute_result"
        }
      ],
      "source": [
        "df.sample(5)"
      ]
    },
    {
      "cell_type": "code",
      "execution_count": 36,
      "id": "c00c459e",
      "metadata": {
        "execution": {
          "iopub.execute_input": "2022-12-25T18:21:25.510693Z",
          "iopub.status.busy": "2022-12-25T18:21:25.510042Z",
          "iopub.status.idle": "2022-12-25T18:21:25.516465Z",
          "shell.execute_reply": "2022-12-25T18:21:25.515675Z"
        },
        "id": "c00c459e",
        "papermill": {
          "duration": 0.035161,
          "end_time": "2022-12-25T18:21:25.518612",
          "exception": false,
          "start_time": "2022-12-25T18:21:25.483451",
          "status": "completed"
        },
        "tags": []
      },
      "outputs": [],
      "source": [
        "train_index = sorted(list(df[\"date\"].unique()))[:-2]\n",
        "\n",
        "valida_index = [sorted(list(df[\"date\"].unique()))[-2]]\n",
        "\n",
        "test_index = [sorted(list(df[\"date\"].unique()))[-1]]"
      ]
    },
    {
      "cell_type": "code",
      "execution_count": 37,
      "id": "cbe8a09a",
      "metadata": {
        "colab": {
          "base_uri": "https://localhost:8080/"
        },
        "id": "cbe8a09a",
        "outputId": "d4c04ddc-82de-4972-da70-93de415d3396"
      },
      "outputs": [
        {
          "name": "stdout",
          "output_type": "stream",
          "text": [
            "Our train index is [Timestamp('2013-01-31 00:00:00'), Timestamp('2013-02-28 00:00:00')] - ... - [Timestamp('2015-07-31 00:00:00'), Timestamp('2015-08-31 00:00:00')]\n",
            "\n",
            "Our validation index is [Timestamp('2015-09-30 00:00:00')]\n",
            "\n",
            "Our test/prediction index is [Timestamp('2015-10-31 00:00:00')]\n",
            "\n"
          ]
        }
      ],
      "source": [
        "print(f\"Our train index is {train_index[:2]} - ... - {train_index[-2:]}\\n\")\n",
        "print(f\"Our validation index is {valida_index}\\n\")\n",
        "print(f\"Our test/prediction index is {test_index}\\n\")"
      ]
    },
    {
      "cell_type": "code",
      "execution_count": 38,
      "id": "9e8355d1",
      "metadata": {
        "execution": {
          "iopub.execute_input": "2022-12-25T18:21:25.571236Z",
          "iopub.status.busy": "2022-12-25T18:21:25.570525Z",
          "iopub.status.idle": "2022-12-25T18:21:25.587609Z",
          "shell.execute_reply": "2022-12-25T18:21:25.586409Z"
        },
        "id": "9e8355d1",
        "papermill": {
          "duration": 0.046374,
          "end_time": "2022-12-25T18:21:25.590261",
          "exception": false,
          "start_time": "2022-12-25T18:21:25.543887",
          "status": "completed"
        },
        "tags": []
      },
      "outputs": [],
      "source": [
        "X_train = df[df[\"date\"].isin(train_index)].drop(['monthly_sales', \"date\"], axis=1)\n",
        "Y_train = df[df[\"date\"].isin(train_index)]['monthly_sales']\n",
        "\n",
        "X_valida = df[df[\"date\"].isin(valida_index)].drop(['monthly_sales', \"date\"], axis=1)\n",
        "Y_valida = df[df[\"date\"].isin(valida_index)]['monthly_sales']\n",
        "\n",
        "X_test = df[df[\"date\"].isin(test_index)].drop(['monthly_sales', \"date\"], axis = 1)\n",
        "Y_test = df[df[\"date\"].isin(test_index)]['monthly_sales']"
      ]
    },
    {
      "cell_type": "markdown",
      "id": "492ba213",
      "metadata": {
        "id": "492ba213",
        "papermill": {
          "duration": 0.02514,
          "end_time": "2022-12-25T18:21:25.641240",
          "exception": false,
          "start_time": "2022-12-25T18:21:25.616100",
          "status": "completed"
        },
        "tags": []
      },
      "source": [
        "<a id='model_train'></a>\n",
        "### Model Train\n",
        "[Volver al índice](#index)<br>\n",
        "\n",
        "Entrenamos nuestro modelo de Machine Learning (benchmark)."
      ]
    },
    {
      "cell_type": "code",
      "execution_count": 39,
      "id": "d10ec77f",
      "metadata": {
        "colab": {
          "base_uri": "https://localhost:8080/",
          "height": 1000
        },
        "execution": {
          "iopub.execute_input": "2022-12-25T18:21:25.694697Z",
          "iopub.status.busy": "2022-12-25T18:21:25.694106Z",
          "iopub.status.idle": "2022-12-25T18:21:26.316245Z",
          "shell.execute_reply": "2022-12-25T18:21:26.315202Z"
        },
        "id": "d10ec77f",
        "outputId": "8effe891-4b6a-4a80-da4b-87656d76f807",
        "papermill": {
          "duration": 0.651824,
          "end_time": "2022-12-25T18:21:26.318999",
          "exception": false,
          "start_time": "2022-12-25T18:21:25.667175",
          "status": "completed"
        },
        "scrolled": false,
        "tags": []
      },
      "outputs": [
        {
          "name": "stdout",
          "output_type": "stream",
          "text": [
            "[0]\tvalidation_0-rmse:6.59862\tvalidation_1-rmse:6.17709\n",
            "[1]\tvalidation_0-rmse:5.73087\tvalidation_1-rmse:5.19965\n",
            "[2]\tvalidation_0-rmse:5.14135\tvalidation_1-rmse:4.55258\n",
            "[3]\tvalidation_0-rmse:4.79141\tvalidation_1-rmse:4.14317\n",
            "[4]\tvalidation_0-rmse:4.56433\tvalidation_1-rmse:3.85224\n",
            "[5]\tvalidation_0-rmse:4.42090\tvalidation_1-rmse:3.63977\n",
            "[6]\tvalidation_0-rmse:4.29063\tvalidation_1-rmse:3.53212\n",
            "[7]\tvalidation_0-rmse:4.23479\tvalidation_1-rmse:3.46385\n",
            "[8]\tvalidation_0-rmse:4.15288\tvalidation_1-rmse:3.38134\n",
            "[9]\tvalidation_0-rmse:4.06266\tvalidation_1-rmse:3.28643\n",
            "[10]\tvalidation_0-rmse:3.98246\tvalidation_1-rmse:3.23335\n",
            "[11]\tvalidation_0-rmse:3.89931\tvalidation_1-rmse:3.20436\n",
            "[12]\tvalidation_0-rmse:3.82052\tvalidation_1-rmse:3.15800\n",
            "[13]\tvalidation_0-rmse:3.77142\tvalidation_1-rmse:3.15028\n",
            "[14]\tvalidation_0-rmse:3.73498\tvalidation_1-rmse:3.15261\n",
            "[15]\tvalidation_0-rmse:3.70432\tvalidation_1-rmse:3.10922\n",
            "[16]\tvalidation_0-rmse:3.66833\tvalidation_1-rmse:3.09932\n",
            "[17]\tvalidation_0-rmse:3.61337\tvalidation_1-rmse:3.05558\n",
            "[18]\tvalidation_0-rmse:3.58873\tvalidation_1-rmse:3.05380\n",
            "[19]\tvalidation_0-rmse:3.53983\tvalidation_1-rmse:3.03716\n",
            "[20]\tvalidation_0-rmse:3.51043\tvalidation_1-rmse:3.03704\n",
            "[21]\tvalidation_0-rmse:3.45323\tvalidation_1-rmse:3.02086\n",
            "[22]\tvalidation_0-rmse:3.41480\tvalidation_1-rmse:3.00835\n",
            "[23]\tvalidation_0-rmse:3.38449\tvalidation_1-rmse:2.99025\n",
            "[24]\tvalidation_0-rmse:3.37134\tvalidation_1-rmse:2.99067\n",
            "[25]\tvalidation_0-rmse:3.34879\tvalidation_1-rmse:2.99161\n",
            "[26]\tvalidation_0-rmse:3.32383\tvalidation_1-rmse:2.97328\n",
            "[27]\tvalidation_0-rmse:3.27532\tvalidation_1-rmse:2.95066\n",
            "[28]\tvalidation_0-rmse:3.25248\tvalidation_1-rmse:2.94352\n",
            "[29]\tvalidation_0-rmse:3.23635\tvalidation_1-rmse:2.93915\n",
            "[30]\tvalidation_0-rmse:3.22188\tvalidation_1-rmse:2.93557\n",
            "[31]\tvalidation_0-rmse:3.18928\tvalidation_1-rmse:2.91986\n",
            "[32]\tvalidation_0-rmse:3.17423\tvalidation_1-rmse:2.91707\n",
            "[33]\tvalidation_0-rmse:3.15676\tvalidation_1-rmse:2.90943\n",
            "[34]\tvalidation_0-rmse:3.13862\tvalidation_1-rmse:2.90796\n",
            "[35]\tvalidation_0-rmse:3.12460\tvalidation_1-rmse:2.90812\n",
            "[36]\tvalidation_0-rmse:3.10639\tvalidation_1-rmse:2.89382\n",
            "[37]\tvalidation_0-rmse:3.09853\tvalidation_1-rmse:2.89652\n",
            "[38]\tvalidation_0-rmse:3.08902\tvalidation_1-rmse:2.89727\n",
            "[39]\tvalidation_0-rmse:3.07848\tvalidation_1-rmse:2.89552\n",
            "[40]\tvalidation_0-rmse:3.06481\tvalidation_1-rmse:2.89558\n",
            "[41]\tvalidation_0-rmse:3.05176\tvalidation_1-rmse:2.89832\n",
            "[42]\tvalidation_0-rmse:3.03388\tvalidation_1-rmse:2.89835\n",
            "[43]\tvalidation_0-rmse:3.02640\tvalidation_1-rmse:2.89753\n",
            "[44]\tvalidation_0-rmse:2.99327\tvalidation_1-rmse:2.88447\n",
            "[45]\tvalidation_0-rmse:2.97302\tvalidation_1-rmse:2.88098\n",
            "[46]\tvalidation_0-rmse:2.96161\tvalidation_1-rmse:2.88128\n",
            "[47]\tvalidation_0-rmse:2.95412\tvalidation_1-rmse:2.88519\n",
            "[48]\tvalidation_0-rmse:2.93621\tvalidation_1-rmse:2.87284\n",
            "[49]\tvalidation_0-rmse:2.92564\tvalidation_1-rmse:2.87123\n",
            "[50]\tvalidation_0-rmse:2.91583\tvalidation_1-rmse:2.87063\n",
            "[51]\tvalidation_0-rmse:2.89422\tvalidation_1-rmse:2.86689\n",
            "[52]\tvalidation_0-rmse:2.87539\tvalidation_1-rmse:2.89513\n",
            "[53]\tvalidation_0-rmse:2.86272\tvalidation_1-rmse:2.89913\n",
            "[54]\tvalidation_0-rmse:2.83739\tvalidation_1-rmse:2.89099\n",
            "[55]\tvalidation_0-rmse:2.82186\tvalidation_1-rmse:2.88724\n",
            "[56]\tvalidation_0-rmse:2.80960\tvalidation_1-rmse:2.88428\n",
            "[57]\tvalidation_0-rmse:2.80547\tvalidation_1-rmse:2.88481\n",
            "[58]\tvalidation_0-rmse:2.80081\tvalidation_1-rmse:2.88451\n",
            "[59]\tvalidation_0-rmse:2.79344\tvalidation_1-rmse:2.88280\n",
            "[60]\tvalidation_0-rmse:2.77752\tvalidation_1-rmse:2.88369\n",
            "[61]\tvalidation_0-rmse:2.75649\tvalidation_1-rmse:2.86770\n"
          ]
        },
        {
          "name": "stdout",
          "output_type": "stream",
          "text": [
            "[62]\tvalidation_0-rmse:2.74616\tvalidation_1-rmse:2.86764\n",
            "[63]\tvalidation_0-rmse:2.73260\tvalidation_1-rmse:2.87095\n",
            "[64]\tvalidation_0-rmse:2.71518\tvalidation_1-rmse:2.86703\n",
            "[65]\tvalidation_0-rmse:2.70216\tvalidation_1-rmse:2.86563\n",
            "[66]\tvalidation_0-rmse:2.68375\tvalidation_1-rmse:2.86475\n",
            "[67]\tvalidation_0-rmse:2.66873\tvalidation_1-rmse:2.85932\n",
            "[68]\tvalidation_0-rmse:2.64819\tvalidation_1-rmse:2.85943\n",
            "[69]\tvalidation_0-rmse:2.63341\tvalidation_1-rmse:2.85615\n",
            "[70]\tvalidation_0-rmse:2.62449\tvalidation_1-rmse:2.85645\n",
            "[71]\tvalidation_0-rmse:2.61259\tvalidation_1-rmse:2.85358\n",
            "[72]\tvalidation_0-rmse:2.60324\tvalidation_1-rmse:2.85209\n",
            "[73]\tvalidation_0-rmse:2.59655\tvalidation_1-rmse:2.85150\n",
            "[74]\tvalidation_0-rmse:2.58998\tvalidation_1-rmse:2.85082\n",
            "[75]\tvalidation_0-rmse:2.58485\tvalidation_1-rmse:2.85207\n",
            "[76]\tvalidation_0-rmse:2.57791\tvalidation_1-rmse:2.85119\n",
            "[77]\tvalidation_0-rmse:2.56752\tvalidation_1-rmse:2.85203\n",
            "[78]\tvalidation_0-rmse:2.55688\tvalidation_1-rmse:2.84164\n",
            "[79]\tvalidation_0-rmse:2.54142\tvalidation_1-rmse:2.83585\n",
            "[80]\tvalidation_0-rmse:2.53384\tvalidation_1-rmse:2.83984\n",
            "[81]\tvalidation_0-rmse:2.52431\tvalidation_1-rmse:2.83804\n",
            "[82]\tvalidation_0-rmse:2.51234\tvalidation_1-rmse:2.83839\n",
            "[83]\tvalidation_0-rmse:2.49784\tvalidation_1-rmse:2.84559\n",
            "[84]\tvalidation_0-rmse:2.48418\tvalidation_1-rmse:2.84082\n",
            "[85]\tvalidation_0-rmse:2.47840\tvalidation_1-rmse:2.84213\n",
            "[86]\tvalidation_0-rmse:2.46718\tvalidation_1-rmse:2.84541\n",
            "[87]\tvalidation_0-rmse:2.45544\tvalidation_1-rmse:2.83683\n",
            "[88]\tvalidation_0-rmse:2.45060\tvalidation_1-rmse:2.83597\n",
            "[89]\tvalidation_0-rmse:2.43971\tvalidation_1-rmse:2.83384\n",
            "[90]\tvalidation_0-rmse:2.43090\tvalidation_1-rmse:2.83602\n",
            "[91]\tvalidation_0-rmse:2.42323\tvalidation_1-rmse:2.83372\n",
            "[92]\tvalidation_0-rmse:2.41307\tvalidation_1-rmse:2.83287\n",
            "[93]\tvalidation_0-rmse:2.40774\tvalidation_1-rmse:2.82849\n",
            "[94]\tvalidation_0-rmse:2.40313\tvalidation_1-rmse:2.82831\n",
            "[95]\tvalidation_0-rmse:2.39798\tvalidation_1-rmse:2.82764\n",
            "[96]\tvalidation_0-rmse:2.38849\tvalidation_1-rmse:2.83317\n",
            "[97]\tvalidation_0-rmse:2.37981\tvalidation_1-rmse:2.82902\n",
            "[98]\tvalidation_0-rmse:2.36988\tvalidation_1-rmse:2.82599\n",
            "[99]\tvalidation_0-rmse:2.36368\tvalidation_1-rmse:2.82807\n"
          ]
        },
        {
          "data": {
            "text/html": [
              "<style>#sk-container-id-1 {\n",
              "  /* Definition of color scheme common for light and dark mode */\n",
              "  --sklearn-color-text: black;\n",
              "  --sklearn-color-line: gray;\n",
              "  /* Definition of color scheme for unfitted estimators */\n",
              "  --sklearn-color-unfitted-level-0: #fff5e6;\n",
              "  --sklearn-color-unfitted-level-1: #f6e4d2;\n",
              "  --sklearn-color-unfitted-level-2: #ffe0b3;\n",
              "  --sklearn-color-unfitted-level-3: chocolate;\n",
              "  /* Definition of color scheme for fitted estimators */\n",
              "  --sklearn-color-fitted-level-0: #f0f8ff;\n",
              "  --sklearn-color-fitted-level-1: #d4ebff;\n",
              "  --sklearn-color-fitted-level-2: #b3dbfd;\n",
              "  --sklearn-color-fitted-level-3: cornflowerblue;\n",
              "\n",
              "  /* Specific color for light theme */\n",
              "  --sklearn-color-text-on-default-background: var(--sg-text-color, var(--theme-code-foreground, var(--jp-content-font-color1, black)));\n",
              "  --sklearn-color-background: var(--sg-background-color, var(--theme-background, var(--jp-layout-color0, white)));\n",
              "  --sklearn-color-border-box: var(--sg-text-color, var(--theme-code-foreground, var(--jp-content-font-color1, black)));\n",
              "  --sklearn-color-icon: #696969;\n",
              "\n",
              "  @media (prefers-color-scheme: dark) {\n",
              "    /* Redefinition of color scheme for dark theme */\n",
              "    --sklearn-color-text-on-default-background: var(--sg-text-color, var(--theme-code-foreground, var(--jp-content-font-color1, white)));\n",
              "    --sklearn-color-background: var(--sg-background-color, var(--theme-background, var(--jp-layout-color0, #111)));\n",
              "    --sklearn-color-border-box: var(--sg-text-color, var(--theme-code-foreground, var(--jp-content-font-color1, white)));\n",
              "    --sklearn-color-icon: #878787;\n",
              "  }\n",
              "}\n",
              "\n",
              "#sk-container-id-1 {\n",
              "  color: var(--sklearn-color-text);\n",
              "}\n",
              "\n",
              "#sk-container-id-1 pre {\n",
              "  padding: 0;\n",
              "}\n",
              "\n",
              "#sk-container-id-1 input.sk-hidden--visually {\n",
              "  border: 0;\n",
              "  clip: rect(1px 1px 1px 1px);\n",
              "  clip: rect(1px, 1px, 1px, 1px);\n",
              "  height: 1px;\n",
              "  margin: -1px;\n",
              "  overflow: hidden;\n",
              "  padding: 0;\n",
              "  position: absolute;\n",
              "  width: 1px;\n",
              "}\n",
              "\n",
              "#sk-container-id-1 div.sk-dashed-wrapped {\n",
              "  border: 1px dashed var(--sklearn-color-line);\n",
              "  margin: 0 0.4em 0.5em 0.4em;\n",
              "  box-sizing: border-box;\n",
              "  padding-bottom: 0.4em;\n",
              "  background-color: var(--sklearn-color-background);\n",
              "}\n",
              "\n",
              "#sk-container-id-1 div.sk-container {\n",
              "  /* jupyter's `normalize.less` sets `[hidden] { display: none; }`\n",
              "     but bootstrap.min.css set `[hidden] { display: none !important; }`\n",
              "     so we also need the `!important` here to be able to override the\n",
              "     default hidden behavior on the sphinx rendered scikit-learn.org.\n",
              "     See: https://github.com/scikit-learn/scikit-learn/issues/21755 */\n",
              "  display: inline-block !important;\n",
              "  position: relative;\n",
              "}\n",
              "\n",
              "#sk-container-id-1 div.sk-text-repr-fallback {\n",
              "  display: none;\n",
              "}\n",
              "\n",
              "div.sk-parallel-item,\n",
              "div.sk-serial,\n",
              "div.sk-item {\n",
              "  /* draw centered vertical line to link estimators */\n",
              "  background-image: linear-gradient(var(--sklearn-color-text-on-default-background), var(--sklearn-color-text-on-default-background));\n",
              "  background-size: 2px 100%;\n",
              "  background-repeat: no-repeat;\n",
              "  background-position: center center;\n",
              "}\n",
              "\n",
              "/* Parallel-specific style estimator block */\n",
              "\n",
              "#sk-container-id-1 div.sk-parallel-item::after {\n",
              "  content: \"\";\n",
              "  width: 100%;\n",
              "  border-bottom: 2px solid var(--sklearn-color-text-on-default-background);\n",
              "  flex-grow: 1;\n",
              "}\n",
              "\n",
              "#sk-container-id-1 div.sk-parallel {\n",
              "  display: flex;\n",
              "  align-items: stretch;\n",
              "  justify-content: center;\n",
              "  background-color: var(--sklearn-color-background);\n",
              "  position: relative;\n",
              "}\n",
              "\n",
              "#sk-container-id-1 div.sk-parallel-item {\n",
              "  display: flex;\n",
              "  flex-direction: column;\n",
              "}\n",
              "\n",
              "#sk-container-id-1 div.sk-parallel-item:first-child::after {\n",
              "  align-self: flex-end;\n",
              "  width: 50%;\n",
              "}\n",
              "\n",
              "#sk-container-id-1 div.sk-parallel-item:last-child::after {\n",
              "  align-self: flex-start;\n",
              "  width: 50%;\n",
              "}\n",
              "\n",
              "#sk-container-id-1 div.sk-parallel-item:only-child::after {\n",
              "  width: 0;\n",
              "}\n",
              "\n",
              "/* Serial-specific style estimator block */\n",
              "\n",
              "#sk-container-id-1 div.sk-serial {\n",
              "  display: flex;\n",
              "  flex-direction: column;\n",
              "  align-items: center;\n",
              "  background-color: var(--sklearn-color-background);\n",
              "  padding-right: 1em;\n",
              "  padding-left: 1em;\n",
              "}\n",
              "\n",
              "\n",
              "/* Toggleable style: style used for estimator/Pipeline/ColumnTransformer box that is\n",
              "clickable and can be expanded/collapsed.\n",
              "- Pipeline and ColumnTransformer use this feature and define the default style\n",
              "- Estimators will overwrite some part of the style using the `sk-estimator` class\n",
              "*/\n",
              "\n",
              "/* Pipeline and ColumnTransformer style (default) */\n",
              "\n",
              "#sk-container-id-1 div.sk-toggleable {\n",
              "  /* Default theme specific background. It is overwritten whether we have a\n",
              "  specific estimator or a Pipeline/ColumnTransformer */\n",
              "  background-color: var(--sklearn-color-background);\n",
              "}\n",
              "\n",
              "/* Toggleable label */\n",
              "#sk-container-id-1 label.sk-toggleable__label {\n",
              "  cursor: pointer;\n",
              "  display: block;\n",
              "  width: 100%;\n",
              "  margin-bottom: 0;\n",
              "  padding: 0.5em;\n",
              "  box-sizing: border-box;\n",
              "  text-align: center;\n",
              "}\n",
              "\n",
              "#sk-container-id-1 label.sk-toggleable__label-arrow:before {\n",
              "  /* Arrow on the left of the label */\n",
              "  content: \"▸\";\n",
              "  float: left;\n",
              "  margin-right: 0.25em;\n",
              "  color: var(--sklearn-color-icon);\n",
              "}\n",
              "\n",
              "#sk-container-id-1 label.sk-toggleable__label-arrow:hover:before {\n",
              "  color: var(--sklearn-color-text);\n",
              "}\n",
              "\n",
              "/* Toggleable content - dropdown */\n",
              "\n",
              "#sk-container-id-1 div.sk-toggleable__content {\n",
              "  max-height: 0;\n",
              "  max-width: 0;\n",
              "  overflow: hidden;\n",
              "  text-align: left;\n",
              "  /* unfitted */\n",
              "  background-color: var(--sklearn-color-unfitted-level-0);\n",
              "}\n",
              "\n",
              "#sk-container-id-1 div.sk-toggleable__content.fitted {\n",
              "  /* fitted */\n",
              "  background-color: var(--sklearn-color-fitted-level-0);\n",
              "}\n",
              "\n",
              "#sk-container-id-1 div.sk-toggleable__content pre {\n",
              "  margin: 0.2em;\n",
              "  border-radius: 0.25em;\n",
              "  color: var(--sklearn-color-text);\n",
              "  /* unfitted */\n",
              "  background-color: var(--sklearn-color-unfitted-level-0);\n",
              "}\n",
              "\n",
              "#sk-container-id-1 div.sk-toggleable__content.fitted pre {\n",
              "  /* unfitted */\n",
              "  background-color: var(--sklearn-color-fitted-level-0);\n",
              "}\n",
              "\n",
              "#sk-container-id-1 input.sk-toggleable__control:checked~div.sk-toggleable__content {\n",
              "  /* Expand drop-down */\n",
              "  max-height: 200px;\n",
              "  max-width: 100%;\n",
              "  overflow: auto;\n",
              "}\n",
              "\n",
              "#sk-container-id-1 input.sk-toggleable__control:checked~label.sk-toggleable__label-arrow:before {\n",
              "  content: \"▾\";\n",
              "}\n",
              "\n",
              "/* Pipeline/ColumnTransformer-specific style */\n",
              "\n",
              "#sk-container-id-1 div.sk-label input.sk-toggleable__control:checked~label.sk-toggleable__label {\n",
              "  color: var(--sklearn-color-text);\n",
              "  background-color: var(--sklearn-color-unfitted-level-2);\n",
              "}\n",
              "\n",
              "#sk-container-id-1 div.sk-label.fitted input.sk-toggleable__control:checked~label.sk-toggleable__label {\n",
              "  background-color: var(--sklearn-color-fitted-level-2);\n",
              "}\n",
              "\n",
              "/* Estimator-specific style */\n",
              "\n",
              "/* Colorize estimator box */\n",
              "#sk-container-id-1 div.sk-estimator input.sk-toggleable__control:checked~label.sk-toggleable__label {\n",
              "  /* unfitted */\n",
              "  background-color: var(--sklearn-color-unfitted-level-2);\n",
              "}\n",
              "\n",
              "#sk-container-id-1 div.sk-estimator.fitted input.sk-toggleable__control:checked~label.sk-toggleable__label {\n",
              "  /* fitted */\n",
              "  background-color: var(--sklearn-color-fitted-level-2);\n",
              "}\n",
              "\n",
              "#sk-container-id-1 div.sk-label label.sk-toggleable__label,\n",
              "#sk-container-id-1 div.sk-label label {\n",
              "  /* The background is the default theme color */\n",
              "  color: var(--sklearn-color-text-on-default-background);\n",
              "}\n",
              "\n",
              "/* On hover, darken the color of the background */\n",
              "#sk-container-id-1 div.sk-label:hover label.sk-toggleable__label {\n",
              "  color: var(--sklearn-color-text);\n",
              "  background-color: var(--sklearn-color-unfitted-level-2);\n",
              "}\n",
              "\n",
              "/* Label box, darken color on hover, fitted */\n",
              "#sk-container-id-1 div.sk-label.fitted:hover label.sk-toggleable__label.fitted {\n",
              "  color: var(--sklearn-color-text);\n",
              "  background-color: var(--sklearn-color-fitted-level-2);\n",
              "}\n",
              "\n",
              "/* Estimator label */\n",
              "\n",
              "#sk-container-id-1 div.sk-label label {\n",
              "  font-family: monospace;\n",
              "  font-weight: bold;\n",
              "  display: inline-block;\n",
              "  line-height: 1.2em;\n",
              "}\n",
              "\n",
              "#sk-container-id-1 div.sk-label-container {\n",
              "  text-align: center;\n",
              "}\n",
              "\n",
              "/* Estimator-specific */\n",
              "#sk-container-id-1 div.sk-estimator {\n",
              "  font-family: monospace;\n",
              "  border: 1px dotted var(--sklearn-color-border-box);\n",
              "  border-radius: 0.25em;\n",
              "  box-sizing: border-box;\n",
              "  margin-bottom: 0.5em;\n",
              "  /* unfitted */\n",
              "  background-color: var(--sklearn-color-unfitted-level-0);\n",
              "}\n",
              "\n",
              "#sk-container-id-1 div.sk-estimator.fitted {\n",
              "  /* fitted */\n",
              "  background-color: var(--sklearn-color-fitted-level-0);\n",
              "}\n",
              "\n",
              "/* on hover */\n",
              "#sk-container-id-1 div.sk-estimator:hover {\n",
              "  /* unfitted */\n",
              "  background-color: var(--sklearn-color-unfitted-level-2);\n",
              "}\n",
              "\n",
              "#sk-container-id-1 div.sk-estimator.fitted:hover {\n",
              "  /* fitted */\n",
              "  background-color: var(--sklearn-color-fitted-level-2);\n",
              "}\n",
              "\n",
              "/* Specification for estimator info (e.g. \"i\" and \"?\") */\n",
              "\n",
              "/* Common style for \"i\" and \"?\" */\n",
              "\n",
              ".sk-estimator-doc-link,\n",
              "a:link.sk-estimator-doc-link,\n",
              "a:visited.sk-estimator-doc-link {\n",
              "  float: right;\n",
              "  font-size: smaller;\n",
              "  line-height: 1em;\n",
              "  font-family: monospace;\n",
              "  background-color: var(--sklearn-color-background);\n",
              "  border-radius: 1em;\n",
              "  height: 1em;\n",
              "  width: 1em;\n",
              "  text-decoration: none !important;\n",
              "  margin-left: 1ex;\n",
              "  /* unfitted */\n",
              "  border: var(--sklearn-color-unfitted-level-1) 1pt solid;\n",
              "  color: var(--sklearn-color-unfitted-level-1);\n",
              "}\n",
              "\n",
              ".sk-estimator-doc-link.fitted,\n",
              "a:link.sk-estimator-doc-link.fitted,\n",
              "a:visited.sk-estimator-doc-link.fitted {\n",
              "  /* fitted */\n",
              "  border: var(--sklearn-color-fitted-level-1) 1pt solid;\n",
              "  color: var(--sklearn-color-fitted-level-1);\n",
              "}\n",
              "\n",
              "/* On hover */\n",
              "div.sk-estimator:hover .sk-estimator-doc-link:hover,\n",
              ".sk-estimator-doc-link:hover,\n",
              "div.sk-label-container:hover .sk-estimator-doc-link:hover,\n",
              ".sk-estimator-doc-link:hover {\n",
              "  /* unfitted */\n",
              "  background-color: var(--sklearn-color-unfitted-level-3);\n",
              "  color: var(--sklearn-color-background);\n",
              "  text-decoration: none;\n",
              "}\n",
              "\n",
              "div.sk-estimator.fitted:hover .sk-estimator-doc-link.fitted:hover,\n",
              ".sk-estimator-doc-link.fitted:hover,\n",
              "div.sk-label-container:hover .sk-estimator-doc-link.fitted:hover,\n",
              ".sk-estimator-doc-link.fitted:hover {\n",
              "  /* fitted */\n",
              "  background-color: var(--sklearn-color-fitted-level-3);\n",
              "  color: var(--sklearn-color-background);\n",
              "  text-decoration: none;\n",
              "}\n",
              "\n",
              "/* Span, style for the box shown on hovering the info icon */\n",
              ".sk-estimator-doc-link span {\n",
              "  display: none;\n",
              "  z-index: 9999;\n",
              "  position: relative;\n",
              "  font-weight: normal;\n",
              "  right: .2ex;\n",
              "  padding: .5ex;\n",
              "  margin: .5ex;\n",
              "  width: min-content;\n",
              "  min-width: 20ex;\n",
              "  max-width: 50ex;\n",
              "  color: var(--sklearn-color-text);\n",
              "  box-shadow: 2pt 2pt 4pt #999;\n",
              "  /* unfitted */\n",
              "  background: var(--sklearn-color-unfitted-level-0);\n",
              "  border: .5pt solid var(--sklearn-color-unfitted-level-3);\n",
              "}\n",
              "\n",
              ".sk-estimator-doc-link.fitted span {\n",
              "  /* fitted */\n",
              "  background: var(--sklearn-color-fitted-level-0);\n",
              "  border: var(--sklearn-color-fitted-level-3);\n",
              "}\n",
              "\n",
              ".sk-estimator-doc-link:hover span {\n",
              "  display: block;\n",
              "}\n",
              "\n",
              "/* \"?\"-specific style due to the `<a>` HTML tag */\n",
              "\n",
              "#sk-container-id-1 a.estimator_doc_link {\n",
              "  float: right;\n",
              "  font-size: 1rem;\n",
              "  line-height: 1em;\n",
              "  font-family: monospace;\n",
              "  background-color: var(--sklearn-color-background);\n",
              "  border-radius: 1rem;\n",
              "  height: 1rem;\n",
              "  width: 1rem;\n",
              "  text-decoration: none;\n",
              "  /* unfitted */\n",
              "  color: var(--sklearn-color-unfitted-level-1);\n",
              "  border: var(--sklearn-color-unfitted-level-1) 1pt solid;\n",
              "}\n",
              "\n",
              "#sk-container-id-1 a.estimator_doc_link.fitted {\n",
              "  /* fitted */\n",
              "  border: var(--sklearn-color-fitted-level-1) 1pt solid;\n",
              "  color: var(--sklearn-color-fitted-level-1);\n",
              "}\n",
              "\n",
              "/* On hover */\n",
              "#sk-container-id-1 a.estimator_doc_link:hover {\n",
              "  /* unfitted */\n",
              "  background-color: var(--sklearn-color-unfitted-level-3);\n",
              "  color: var(--sklearn-color-background);\n",
              "  text-decoration: none;\n",
              "}\n",
              "\n",
              "#sk-container-id-1 a.estimator_doc_link.fitted:hover {\n",
              "  /* fitted */\n",
              "  background-color: var(--sklearn-color-fitted-level-3);\n",
              "}\n",
              "</style><div id=\"sk-container-id-1\" class=\"sk-top-container\"><div class=\"sk-text-repr-fallback\"><pre>XGBRegressor(base_score=None, booster=None, callbacks=None,\n",
              "             colsample_bylevel=None, colsample_bynode=None,\n",
              "             colsample_bytree=None, device=None, early_stopping_rounds=None,\n",
              "             enable_categorical=False, eval_metric=&#x27;rmse&#x27;, feature_types=None,\n",
              "             gamma=None, grow_policy=None, importance_type=None,\n",
              "             interaction_constraints=None, learning_rate=None, max_bin=None,\n",
              "             max_cat_threshold=None, max_cat_to_onehot=None,\n",
              "             max_delta_step=None, max_depth=None, max_leaves=None,\n",
              "             min_child_weight=None, missing=nan, monotone_constraints=None,\n",
              "             multi_strategy=None, n_estimators=None, n_jobs=None,\n",
              "             num_parallel_tree=None, random_state=None, ...)</pre><b>In a Jupyter environment, please rerun this cell to show the HTML representation or trust the notebook. <br />On GitHub, the HTML representation is unable to render, please try loading this page with nbviewer.org.</b></div><div class=\"sk-container\" hidden><div class=\"sk-item\"><div class=\"sk-estimator fitted sk-toggleable\"><input class=\"sk-toggleable__control sk-hidden--visually\" id=\"sk-estimator-id-1\" type=\"checkbox\" checked><label for=\"sk-estimator-id-1\" class=\"sk-toggleable__label fitted sk-toggleable__label-arrow fitted\">&nbsp;XGBRegressor<span class=\"sk-estimator-doc-link fitted\">i<span>Fitted</span></span></label><div class=\"sk-toggleable__content fitted\"><pre>XGBRegressor(base_score=None, booster=None, callbacks=None,\n",
              "             colsample_bylevel=None, colsample_bynode=None,\n",
              "             colsample_bytree=None, device=None, early_stopping_rounds=None,\n",
              "             enable_categorical=False, eval_metric=&#x27;rmse&#x27;, feature_types=None,\n",
              "             gamma=None, grow_policy=None, importance_type=None,\n",
              "             interaction_constraints=None, learning_rate=None, max_bin=None,\n",
              "             max_cat_threshold=None, max_cat_to_onehot=None,\n",
              "             max_delta_step=None, max_depth=None, max_leaves=None,\n",
              "             min_child_weight=None, missing=nan, monotone_constraints=None,\n",
              "             multi_strategy=None, n_estimators=None, n_jobs=None,\n",
              "             num_parallel_tree=None, random_state=None, ...)</pre></div> </div></div></div></div>"
            ],
            "text/plain": [
              "XGBRegressor(base_score=None, booster=None, callbacks=None,\n",
              "             colsample_bylevel=None, colsample_bynode=None,\n",
              "             colsample_bytree=None, device=None, early_stopping_rounds=None,\n",
              "             enable_categorical=False, eval_metric='rmse', feature_types=None,\n",
              "             gamma=None, grow_policy=None, importance_type=None,\n",
              "             interaction_constraints=None, learning_rate=None, max_bin=None,\n",
              "             max_cat_threshold=None, max_cat_to_onehot=None,\n",
              "             max_delta_step=None, max_depth=None, max_leaves=None,\n",
              "             min_child_weight=None, missing=nan, monotone_constraints=None,\n",
              "             multi_strategy=None, n_estimators=None, n_jobs=None,\n",
              "             num_parallel_tree=None, random_state=None, ...)"
            ]
          },
          "execution_count": 39,
          "metadata": {},
          "output_type": "execute_result"
        }
      ],
      "source": [
        "model = xgb.XGBRegressor(eval_metric = \"rmse\", seed = 175)\n",
        "\n",
        "model.fit(X_train, Y_train, eval_set = [(X_train, Y_train), (X_valida, Y_valida)], verbose = True)"
      ]
    },
    {
      "cell_type": "markdown",
      "id": "6fc3b411",
      "metadata": {
        "id": "6fc3b411",
        "papermill": {
          "duration": 0.029213,
          "end_time": "2022-12-25T18:21:26.461185",
          "exception": false,
          "start_time": "2022-12-25T18:21:26.431972",
          "status": "completed"
        },
        "tags": []
      },
      "source": [
        "<a id='model_evaluation'></a>\n",
        "### Model Evaluation (**CORE IDEA**)\n",
        "[Volver al índice](#index)<br>"
      ]
    },
    {
      "cell_type": "code",
      "execution_count": 40,
      "id": "29f4bc62",
      "metadata": {
        "colab": {
          "base_uri": "https://localhost:8080/",
          "height": 1000
        },
        "execution": {
          "iopub.execute_input": "2022-12-25T18:21:26.522436Z",
          "iopub.status.busy": "2022-12-25T18:21:26.522009Z",
          "iopub.status.idle": "2022-12-25T18:21:26.811595Z",
          "shell.execute_reply": "2022-12-25T18:21:26.810487Z"
        },
        "id": "29f4bc62",
        "outputId": "5c2b90ad-1e11-4590-b846-4b4397525e67",
        "papermill": {
          "duration": 0.323556,
          "end_time": "2022-12-25T18:21:26.814258",
          "exception": false,
          "start_time": "2022-12-25T18:21:26.490702",
          "status": "completed"
        },
        "tags": []
      },
      "outputs": [
        {
          "data": {
            "image/png": "[encoded data removed]",
            "text/plain": [
              "<Figure size 1000x1500 with 1 Axes>"
            ]
          },
          "metadata": {},
          "output_type": "display_data"
        }
      ],
      "source": [
        "fig, ax = plt.subplots(figsize = (10, 15))\n",
        "xgb.plot_importance(model, importance_type = \"gain\", ax = ax);"
      ]
    },
    {
      "cell_type": "markdown",
      "id": "01ce99a7",
      "metadata": {
        "id": "01ce99a7",
        "papermill": {
          "duration": 0.029273,
          "end_time": "2022-12-25T18:21:26.873617",
          "exception": false,
          "start_time": "2022-12-25T18:21:26.844344",
          "status": "completed"
        },
        "tags": []
      },
      "source": [
        "<a id='prediction'></a>\n",
        "### Prediction\n",
        "[Volver al índice](#index)<br>\n",
        "\n",
        "En este apartado vamos a utilizar el modelo entrenado para hacer una predicción y posteriormente enviar el submit a Kaggle."
      ]
    },
    {
      "cell_type": "code",
      "execution_count": 41,
      "id": "c2e43f31",
      "metadata": {
        "execution": {
          "iopub.execute_input": "2022-12-25T18:21:27.090848Z",
          "iopub.status.busy": "2022-12-25T18:21:27.090417Z",
          "iopub.status.idle": "2022-12-25T18:21:27.104756Z",
          "shell.execute_reply": "2022-12-25T18:21:27.103864Z"
        },
        "id": "c2e43f31",
        "papermill": {
          "duration": 0.04833,
          "end_time": "2022-12-25T18:21:27.107366",
          "exception": false,
          "start_time": "2022-12-25T18:21:27.059036",
          "status": "completed"
        },
        "tags": []
      },
      "outputs": [],
      "source": [
        "if \"monthly_sales\" in X_test.columns:\n",
        "    X_test.drop(\"monthly_sales\", axis = 1, inplace = True)\n",
        "\n",
        "Y_test_predict = model.predict(X_test)\n",
        "X_test[\"monthly_sales\"] = Y_test_predict"
      ]
    },
    {
      "cell_type": "code",
      "execution_count": 42,
      "id": "b4d4963a",
      "metadata": {
        "execution": {
          "iopub.execute_input": "2022-12-25T18:21:27.174612Z",
          "iopub.status.busy": "2022-12-25T18:21:27.173804Z",
          "iopub.status.idle": "2022-12-25T18:21:27.179603Z",
          "shell.execute_reply": "2022-12-25T18:21:27.178795Z"
        },
        "id": "b4d4963a",
        "papermill": {
          "duration": 0.039447,
          "end_time": "2022-12-25T18:21:27.181796",
          "exception": false,
          "start_time": "2022-12-25T18:21:27.142349",
          "status": "completed"
        },
        "tags": []
      },
      "outputs": [],
      "source": [
        "X_test.reset_index(inplace = True)"
      ]
    },
    {
      "cell_type": "code",
      "execution_count": 43,
      "id": "a5fadb87",
      "metadata": {
        "id": "a5fadb87"
      },
      "outputs": [],
      "source": [
        "Y_train_predict = model.predict(X_train)\n",
        "Y_valida_predict = model.predict(X_valida)\n",
        "\n",
        "rmse_train = np.sqrt(\n",
        "    mean_squared_error(\n",
        "        y_true = Y_train,\n",
        "        y_pred = Y_train_predict\n",
        "    )\n",
        ")\n",
        "\n",
        "rmse_valida = np.sqrt(\n",
        "    mean_squared_error(\n",
        "        y_true = Y_valida,\n",
        "        y_pred = Y_valida_predict\n",
        "    )\n",
        ")\n",
        "\n",
        "rmse_train= str(round(rmse_train, 3)).replace(\".\", \"_\")\n",
        "rmse_valida = str(round(rmse_valida, 3)).replace(\".\", \"_\")"
      ]
    },
    {
      "cell_type": "code",
      "execution_count": 44,
      "id": "7d0db9cc",
      "metadata": {
        "colab": {
          "base_uri": "https://localhost:8080/"
        },
        "id": "7d0db9cc",
        "outputId": "61da0e41-de3c-41cc-af9f-0fde507c3f02"
      },
      "outputs": [
        {
          "name": "stdout",
          "output_type": "stream",
          "text": [
            "Train RMSE: 2_364\n",
            "Validation RMSE: 2_828\n"
          ]
        }
      ],
      "source": [
        "print(f\"Train RMSE: {rmse_train}\")\n",
        "print(f\"Validation RMSE: {rmse_valida}\")"
      ]
    },
    {
      "cell_type": "code",
      "execution_count": 45,
      "id": "f9bbf0d0",
      "metadata": {
        "execution": {
          "iopub.execute_input": "2022-12-25T18:21:27.243914Z",
          "iopub.status.busy": "2022-12-25T18:21:27.243464Z",
          "iopub.status.idle": "2022-12-25T18:21:27.253101Z",
          "shell.execute_reply": "2022-12-25T18:21:27.252130Z"
        },
        "id": "f9bbf0d0",
        "papermill": {
          "duration": 0.043266,
          "end_time": "2022-12-25T18:21:27.255412",
          "exception": false,
          "start_time": "2022-12-25T18:21:27.212146",
          "status": "completed"
        },
        "tags": []
      },
      "outputs": [],
      "source": [
        "(\n",
        "    X_test[[\"unique_id\", \"monthly_sales\"]]\n",
        "    .to_csv(f\"submission_train_{rmse_train}_valida_{rmse_valida}.csv\", index = False)\n",
        ")"
      ]
    },
    {
      "cell_type": "code",
      "execution_count": null,
      "id": "6d7921d2",
      "metadata": {},
      "outputs": [],
      "source": []
    },
    {
      "cell_type": "markdown",
      "id": "89c24bb3",
      "metadata": {
        "id": "89c24bb3",
        "papermill": {
          "duration": 0.029508,
          "end_time": "2022-12-25T18:21:27.314971",
          "exception": false,
          "start_time": "2022-12-25T18:21:27.285463",
          "status": "completed"
        },
        "tags": []
      },
      "source": [
        "<a id='conclusion'></a>\n",
        "### Conclusión\n",
        "[Volver al índice](#index)<br>\n",
        "\n",
        "En este notebook hemos explorado la importancia en Machine Learning de utilizar un modelo benchmark cuando nos enfrentamos por primera vez a un nuevo dataset.\n",
        "\n",
        "Establecer el benchmark nos ayuda a entender cual es el punto de partida.\n",
        "\n",
        "Al entrenar un modelo, tenemos ya un notebook funcional que nos permite entrar en la siguiente loop:\n",
        "\n",
        "1. Hacer un poco más de EDA.\n",
        "1. Construir nuevas variables.\n",
        "1. Probar estas variables en el modelo.\n",
        "1. Guardar el score para ver la mejora o no (Kaggle Submit).\n",
        "1. Volver al punto 1.\n",
        "\n",
        "A continuación dejamos algunas ideas que los alumnos pueden implementar para mejorar el benchmark:\n",
        "\n",
        "1. Probad otras combinaciones de variables.\n",
        "1. Darle más profundidad a los lags/shifts.\n",
        "1. Implementar medias móviles (ojo variables autoexplicativas).\n",
        "1. Utilizar otras columnas en vez de MONTHLY_SALES para construir las variables.\n",
        "1. Probar otros algoritmos.\n",
        "1. Tunnear los hiperparametros del modelo.\n",
        "\n",
        "### Happy Kaggling :)"
      ]
    },
    {
      "cell_type": "markdown",
      "id": "e5de64f5",
      "metadata": {
        "id": "e5de64f5",
        "papermill": {
          "duration": 0.029443,
          "end_time": "2022-12-25T18:21:27.373965",
          "exception": false,
          "start_time": "2022-12-25T18:21:27.344522",
          "status": "completed"
        },
        "tags": []
      },
      "source": [
        "<a id='referencias'></a>\n",
        "### Referencias y lecturas recomendables\n",
        "[Volver al índice](#index)<br>\n",
        "\n",
        "A continuación dejamos algunos links útiles para profundizar en algunos de los conceptos que hemos visto en el notebook:"
      ]
    },
    {
      "cell_type": "markdown",
      "id": "73d6a2d6",
      "metadata": {
        "execution": {
          "iopub.execute_input": "2022-12-25T18:07:20.669652Z",
          "iopub.status.busy": "2022-12-25T18:07:20.669260Z",
          "iopub.status.idle": "2022-12-25T18:07:20.678128Z",
          "shell.execute_reply": "2022-12-25T18:07:20.675814Z",
          "shell.execute_reply.started": "2022-12-25T18:07:20.669622Z"
        },
        "id": "73d6a2d6",
        "papermill": {
          "duration": 0.029289,
          "end_time": "2022-12-25T18:21:27.432895",
          "exception": false,
          "start_time": "2022-12-25T18:21:27.403606",
          "status": "completed"
        },
        "tags": []
      },
      "source": [
        "[The importance of Benchmarking](https://blog.bigml.com/2020/03/20/machine-learning-benchmarking-youre-doing-it-wrong/)\n",
        "\n",
        "[Tree Based Models and Extrapolation (MUY RECOMENDABLE)](https://shanminlin.medium.com/how-to-help-tree-based-models-extrapolate-7954287b1219)\n",
        "\n",
        "[XGBoost](https://xgboost.readthedocs.io/en/stable/)"
      ]
    },
    {
      "cell_type": "code",
      "execution_count": null,
      "id": "c8c0db6e",
      "metadata": {
        "id": "c8c0db6e",
        "papermill": {
          "duration": 0.029463,
          "end_time": "2022-12-25T18:21:27.491994",
          "exception": false,
          "start_time": "2022-12-25T18:21:27.462531",
          "status": "completed"
        },
        "tags": []
      },
      "outputs": [],
      "source": []
    }
  ],
  "metadata": {
    "colab": {
      "provenance": [],
      "toc_visible": true
    },
    "kernelspec": {
      "display_name": "Python 3",
      "language": "python",
      "name": "python3"
    },
    "language_info": {
      "codemirror_mode": {
        "name": "ipython",
        "version": 3
      },
      "file_extension": ".py",
      "mimetype": "text/x-python",
      "name": "python",
      "nbconvert_exporter": "python",
      "pygments_lexer": "ipython3",
      "version": "3.12.1"
    },
    "papermill": {
      "default_parameters": {},
      "duration": 23.57855,
      "end_time": "2022-12-25T18:21:28.344030",
      "environment_variables": {},
      "exception": null,
      "input_path": "__notebook__.ipynb",
      "output_path": "__notebook__.ipynb",
      "parameters": {},
      "start_time": "2022-12-25T18:21:04.765480",
      "version": "2.3.4"
    }
  },
  "nbformat": 4,
  "nbformat_minor": 5
}
